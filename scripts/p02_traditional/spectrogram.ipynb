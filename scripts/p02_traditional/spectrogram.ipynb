{
 "cells": [
  {
   "cell_type": "code",
   "execution_count": null,
   "metadata": {},
   "outputs": [],
   "source": [
    "# Overview\n",
    "\n",
    "In this notebook, we plot the raw data and its spectrogram\n",
    "Skin conductance data is a slow drift signal, so we may have to focus on lower requencies to get an idea of the signal at hand"
   ]
  },
  {
   "cell_type": "code",
   "execution_count": null,
   "metadata": {},
   "outputs": [],
   "source": [
    "Some run characteristics\n",
    "* 2 cue (high/low) x 3 stimulus intensity (48/49/50 celcius)\n",
    "* 12 trials in total\n",
    "* thermal heat is delivered for 9 seconds, with a 5 second plateau of peak temperature"
   ]
  }
 ],
 "metadata": {
  "language_info": {
   "name": "python"
  },
  "orig_nbformat": 4
 },
 "nbformat": 4,
 "nbformat_minor": 2
}
