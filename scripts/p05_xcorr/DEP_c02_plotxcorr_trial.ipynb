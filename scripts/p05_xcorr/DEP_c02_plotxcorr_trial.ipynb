{
 "cells": [
  {
   "cell_type": "code",
   "execution_count": 1,
   "metadata": {},
   "outputs": [
    {
     "name": "stderr",
     "output_type": "stream",
     "text": [
      "/Users/h/miniconda3/envs/physio/lib/python3.11/site-packages/nilearn/input_data/__init__.py:23: FutureWarning: The import path 'nilearn.input_data' is deprecated in version 0.9. Importing from 'nilearn.input_data' will be possible at least until release 0.13.0. Please import from 'nilearn.maskers' instead.\n",
      "  warnings.warn(message, FutureWarning)\n"
     ]
    }
   ],
   "source": [
    "import pandas as pd\n",
    "import numpy as np\n",
    "import os, json, re, glob\n",
    "from os.path import join\n",
    "from netneurotools import datasets as nntdata\n",
    "from neuromaps.parcellate import Parcellater\n",
    "\n",
    "from nilearn import image, plotting\n",
    "from surfplot import Plot\n",
    "\n",
    "from neuromaps.datasets import fetch_fslr\n",
    "from neuromaps.parcellate import Parcellater\n",
    "from neuromaps.images import dlabel_to_gifti\n",
    "\n",
    "\n",
    "\n",
    "# gradient color bar\n",
    "import matplotlib.pyplot as plt\n",
    "from matplotlib.colors import LinearSegmentedColormap\n",
    "from matplotlib.colors import to_rgba\n",
    "import seaborn as sns"
   ]
  },
  {
   "attachments": {},
   "cell_type": "markdown",
   "metadata": {},
   "source": [
    "## functin: gradient color bar"
   ]
  },
  {
   "cell_type": "code",
   "execution_count": 2,
   "metadata": {},
   "outputs": [
    {
     "data": {
      "image/png": "[encoded data removed]",
      "text/plain": [
       "<Figure size 600x200 with 1 Axes>"
      ]
     },
     "metadata": {},
     "output_type": "display_data"
    }
   ],
   "source": [
    "# Define the colors at specific points\n",
    "colors = [\n",
    "    (-1.8, \"#120041\"),  # Start with blue at -1.9\n",
    "    (-1.2, \"#2500fa\"),\n",
    "    (-0.6, \"#84c6fd\"),  # Start with blue at -1.9\n",
    "    (0, \"white\"),    # Transition to white at 0\n",
    "    (0.4, \"#d50044\"),\n",
    "    (0.8, \"#ff0000\"),    # Start transitioning to red just after 0 towards 1.2\n",
    "    (1.2, \"#ffd400\")  # End with yellow at 1.2\n",
    "]\n",
    "\n",
    "colors_with_opacity = [\n",
    "    (-1.8, to_rgba(\"#3661ab\", alpha=1.0)),  # Fully opaque\n",
    "    (-0.9, to_rgba(\"#63a4ff\", alpha=0.8)),  # Fully opaque\n",
    "    # (-0.1, to_rgba(\"#008bff\", alpha=0.6)),  # Fully opaque\n",
    "    (0, to_rgba(\"white\", alpha=1.0)),       # Fully opaque\n",
    "    # (0.1, to_rgba(\"#d50044\", alpha=0.6)),   # 30% opacity\n",
    "    (0.6, to_rgba(\"#ffa300\", alpha=0.8)),   # 60% opacity\n",
    "    (1.2, to_rgba(\"#ff0000\", alpha=1.0))    # Fully opaque\n",
    "]\n",
    "\n",
    "\n",
    "\n",
    "# Normalize the points to the [0, 1] interval\n",
    "norm_points = np.linspace(-1.9, 1.2, len(colors_with_opacity))\n",
    "norm_colors = [c[1] for c in colors_with_opacity]\n",
    "norm_points = (norm_points - norm_points.min()) / (norm_points.max() - norm_points.min())\n",
    "\n",
    "# Create a custom colormap\n",
    "cmap = LinearSegmentedColormap.from_list(\"custom_gradient\", list(zip(norm_points, norm_colors)))\n",
    "\n",
    "# Create a gradient image\n",
    "gradient = np.linspace(0, 1, 256)\n",
    "gradient = np.vstack((gradient, gradient))\n",
    "\n",
    "# Plot the gradient\n",
    "fig, ax = plt.subplots(figsize=(6, 2))\n",
    "ax.imshow(gradient, aspect='auto', cmap=cmap)\n",
    "ax.set_axis_off()\n",
    "\n",
    "plt.show()\n"
   ]
  },
  {
   "attachments": {},
   "cell_type": "markdown",
   "metadata": {},
   "source": [
    "# gradient\n"
   ]
  },
  {
   "attachments": {},
   "cell_type": "markdown",
   "metadata": {},
   "source": [
    "# function for brain plot"
   ]
  },
  {
   "cell_type": "code",
   "execution_count": 3,
   "metadata": {},
   "outputs": [],
   "source": [
    "# %%\n",
    "\n",
    "\n",
    "def plot_brain_surfaces(image, cbar_label='INSERT LABEL', cmap='viridis', color_range=None):\n",
    "    \"\"\"\n",
    "    Plot brain surfaces with the given data.\n",
    "\n",
    "    Parameters:\n",
    "    - TST: Tuple of (left hemisphere data, right hemisphere data) to be plotted.\n",
    "    - cbar_label: Label for the color bar.\n",
    "    - cmap: Colormap for the data.\n",
    "    - color_range: Optional. Tuple of (min, max) values for the color range. If not provided, the range is auto-detected.\n",
    "    \"\"\"\n",
    "    surfaces_fslr = fetch_fslr()\n",
    "    lh_fslr, rh_fslr = surfaces_fslr['inflated']\n",
    "    \n",
    "    p = Plot(surf_lh=lh_fslr,\n",
    "             surf_rh=rh_fslr, \n",
    "             size=(1000, 200), \n",
    "             zoom=1.2, layout='row', \n",
    "             views=['lateral', 'medial', 'ventral', 'posterior'], \n",
    "             mirror_views=True, brightness=.7)\n",
    "    p.add_layer({'left': image[0], \n",
    "            'right': image[1]}, \n",
    "            cmap=cmap, cbar=True,\n",
    "            color_range=color_range,\n",
    "            cbar_label=cbar_label\n",
    "            ) # YlOrRd_r\n",
    "\n",
    "    cbar_kws = dict(outer_labels_only=True, pad=.02, n_ticks=2, decimals=3)\n",
    "    fig = p.build(cbar_kws=cbar_kws)\n",
    "    return(fig)\n",
    "    # fig.show()\n"
   ]
  },
  {
   "attachments": {},
   "cell_type": "markdown",
   "metadata": {},
   "source": [
    "## stack xcorr data\n",
    "previously, I had a bug where the dataframe was stacking sub-all.tsv. This led to an inflation in datapoints.\n",
    "This bug is resolved by saving the file in a different folder, no longer being globbed and concatenated"
   ]
  },
  {
   "cell_type": "code",
   "execution_count": 30,
   "metadata": {},
   "outputs": [],
   "source": [
    "xcorr_dir = '/Volumes/spacetop_projects_cue/analysis/physio/nobaseline/xcorr_null'\n",
    "\n",
    "all_frames = []  \n",
    "xcorr_flist = glob.glob(join(xcorr_dir, f\"sub-*_ses-*_run*_runtype-pain_xcorr-fmri-physio.tsv\"))\n",
    "\n"
   ]
  },
  {
   "cell_type": "code",
   "execution_count": 31,
   "metadata": {},
   "outputs": [
    {
     "data": {
      "text/plain": [
       "['/Volumes/spacetop_projects_cue/analysis/physio/nobaseline/xcorr_null/sub-0016_ses-01_run-02_runtype-pain_xcorr-fmri-physio.tsv',\n",
       " '/Volumes/spacetop_projects_cue/analysis/physio/nobaseline/xcorr_null/sub-0016_ses-03_run-06_runtype-pain_xcorr-fmri-physio.tsv',\n",
       " '/Volumes/spacetop_projects_cue/analysis/physio/nobaseline/xcorr_null/sub-0016_ses-03_run-03_runtype-pain_xcorr-fmri-physio.tsv',\n",
       " '/Volumes/spacetop_projects_cue/analysis/physio/nobaseline/xcorr_null/sub-0017_ses-03_run-02_runtype-pain_xcorr-fmri-physio.tsv',\n",
       " '/Volumes/spacetop_projects_cue/analysis/physio/nobaseline/xcorr_null/sub-0015_ses-01_run-01_runtype-pain_xcorr-fmri-physio.tsv',\n",
       " '/Volumes/spacetop_projects_cue/analysis/physio/nobaseline/xcorr_null/sub-0015_ses-01_run-05_runtype-pain_xcorr-fmri-physio.tsv',\n",
       " '/Volumes/spacetop_projects_cue/analysis/physio/nobaseline/xcorr_null/sub-0017_ses-03_run-05_runtype-pain_xcorr-fmri-physio.tsv']"
      ]
     },
     "execution_count": 31,
     "metadata": {},
     "output_type": "execute_result"
    }
   ],
   "source": [
    "xcorr_flist"
   ]
  },
  {
   "cell_type": "code",
   "execution_count": null,
   "metadata": {},
   "outputs": [],
   "source": [
    "for xcorr_fname in xcorr_flist:\n",
    "# for filename in os.listdir(xcorr_dir):\n",
    "    if xcorr_fname.endswith('.tsv'):  # Assuming the files are CSVs\n",
    "        # file_path = os.path.join(xcorr_dir, filename)\n",
    "        df = pd.read_csv(xcorr_fname, sep='\\t')\n",
    "        all_frames.append(df)\n",
    "combined_df = pd.concat(all_frames, ignore_index=True)\n",
    "combined_df.to_csv(join(xcorr_dir, 'total', 'sub-all_runtype-pain_xcorr-fmri-physio.tsv'), sep='\\t', index=False)"
   ]
  },
  {
   "cell_type": "code",
   "execution_count": 32,
   "metadata": {},
   "outputs": [],
   "source": [
    "xcorr_fname = xcorr_flist[0]"
   ]
  },
  {
   "cell_type": "code",
   "execution_count": 33,
   "metadata": {},
   "outputs": [],
   "source": [
    "df = pd.read_csv(xcorr_fname, sep='\\t')\n",
    "df.drop('Unnamed: 0', axis=1, inplace=True)\n",
    "# df.drop('Age', axis=1, inplace=True)\n",
    "\n",
    "run_mean = df.groupby(['sub', 'ses', 'run', 'roi']).median().reset_index()"
   ]
  },
  {
   "cell_type": "code",
   "execution_count": 35,
   "metadata": {},
   "outputs": [
    {
     "data": {
      "text/html": [
       "<div>\n",
       "<style scoped>\n",
       "    .dataframe tbody tr th:only-of-type {\n",
       "        vertical-align: middle;\n",
       "    }\n",
       "\n",
       "    .dataframe tbody tr th {\n",
       "        vertical-align: top;\n",
       "    }\n",
       "\n",
       "    .dataframe thead th {\n",
       "        text-align: right;\n",
       "    }\n",
       "</style>\n",
       "<table border=\"1\" class=\"dataframe\">\n",
       "  <thead>\n",
       "    <tr style=\"text-align: right;\">\n",
       "      <th></th>\n",
       "      <th>sub</th>\n",
       "      <th>ses</th>\n",
       "      <th>run</th>\n",
       "      <th>roi</th>\n",
       "      <th>index</th>\n",
       "      <th>max_acf_value</th>\n",
       "      <th>max_lag_time</th>\n",
       "    </tr>\n",
       "  </thead>\n",
       "  <tbody>\n",
       "    <tr>\n",
       "      <th>0</th>\n",
       "      <td>sub-0016</td>\n",
       "      <td>ses-01</td>\n",
       "      <td>run-02</td>\n",
       "      <td>0</td>\n",
       "      <td>0</td>\n",
       "      <td>0.431833</td>\n",
       "      <td>-2.76</td>\n",
       "    </tr>\n",
       "    <tr>\n",
       "      <th>1</th>\n",
       "      <td>sub-0016</td>\n",
       "      <td>ses-01</td>\n",
       "      <td>run-02</td>\n",
       "      <td>0</td>\n",
       "      <td>1</td>\n",
       "      <td>0.606999</td>\n",
       "      <td>3.68</td>\n",
       "    </tr>\n",
       "    <tr>\n",
       "      <th>2</th>\n",
       "      <td>sub-0016</td>\n",
       "      <td>ses-01</td>\n",
       "      <td>run-02</td>\n",
       "      <td>0</td>\n",
       "      <td>2</td>\n",
       "      <td>0.766874</td>\n",
       "      <td>0.46</td>\n",
       "    </tr>\n",
       "    <tr>\n",
       "      <th>3</th>\n",
       "      <td>sub-0016</td>\n",
       "      <td>ses-01</td>\n",
       "      <td>run-02</td>\n",
       "      <td>0</td>\n",
       "      <td>3</td>\n",
       "      <td>0.542531</td>\n",
       "      <td>3.22</td>\n",
       "    </tr>\n",
       "    <tr>\n",
       "      <th>4</th>\n",
       "      <td>sub-0016</td>\n",
       "      <td>ses-01</td>\n",
       "      <td>run-02</td>\n",
       "      <td>0</td>\n",
       "      <td>4</td>\n",
       "      <td>0.457750</td>\n",
       "      <td>-1.38</td>\n",
       "    </tr>\n",
       "    <tr>\n",
       "      <th>...</th>\n",
       "      <td>...</td>\n",
       "      <td>...</td>\n",
       "      <td>...</td>\n",
       "      <td>...</td>\n",
       "      <td>...</td>\n",
       "      <td>...</td>\n",
       "      <td>...</td>\n",
       "    </tr>\n",
       "    <tr>\n",
       "      <th>4395</th>\n",
       "      <td>sub-0016</td>\n",
       "      <td>ses-01</td>\n",
       "      <td>run-02</td>\n",
       "      <td>399</td>\n",
       "      <td>6</td>\n",
       "      <td>0.764096</td>\n",
       "      <td>7.36</td>\n",
       "    </tr>\n",
       "    <tr>\n",
       "      <th>4396</th>\n",
       "      <td>sub-0016</td>\n",
       "      <td>ses-01</td>\n",
       "      <td>run-02</td>\n",
       "      <td>399</td>\n",
       "      <td>7</td>\n",
       "      <td>0.637077</td>\n",
       "      <td>3.22</td>\n",
       "    </tr>\n",
       "    <tr>\n",
       "      <th>4397</th>\n",
       "      <td>sub-0016</td>\n",
       "      <td>ses-01</td>\n",
       "      <td>run-02</td>\n",
       "      <td>399</td>\n",
       "      <td>8</td>\n",
       "      <td>0.638784</td>\n",
       "      <td>4.14</td>\n",
       "    </tr>\n",
       "    <tr>\n",
       "      <th>4398</th>\n",
       "      <td>sub-0016</td>\n",
       "      <td>ses-01</td>\n",
       "      <td>run-02</td>\n",
       "      <td>399</td>\n",
       "      <td>9</td>\n",
       "      <td>0.387020</td>\n",
       "      <td>-3.68</td>\n",
       "    </tr>\n",
       "    <tr>\n",
       "      <th>4399</th>\n",
       "      <td>sub-0016</td>\n",
       "      <td>ses-01</td>\n",
       "      <td>run-02</td>\n",
       "      <td>399</td>\n",
       "      <td>10</td>\n",
       "      <td>0.351458</td>\n",
       "      <td>9.66</td>\n",
       "    </tr>\n",
       "  </tbody>\n",
       "</table>\n",
       "<p>4400 rows × 7 columns</p>\n",
       "</div>"
      ],
      "text/plain": [
       "           sub     ses     run  roi  index  max_acf_value  max_lag_time\n",
       "0     sub-0016  ses-01  run-02    0      0       0.431833         -2.76\n",
       "1     sub-0016  ses-01  run-02    0      1       0.606999          3.68\n",
       "2     sub-0016  ses-01  run-02    0      2       0.766874          0.46\n",
       "3     sub-0016  ses-01  run-02    0      3       0.542531          3.22\n",
       "4     sub-0016  ses-01  run-02    0      4       0.457750         -1.38\n",
       "...        ...     ...     ...  ...    ...            ...           ...\n",
       "4395  sub-0016  ses-01  run-02  399      6       0.764096          7.36\n",
       "4396  sub-0016  ses-01  run-02  399      7       0.637077          3.22\n",
       "4397  sub-0016  ses-01  run-02  399      8       0.638784          4.14\n",
       "4398  sub-0016  ses-01  run-02  399      9       0.387020         -3.68\n",
       "4399  sub-0016  ses-01  run-02  399     10       0.351458          9.66\n",
       "\n",
       "[4400 rows x 7 columns]"
      ]
     },
     "execution_count": 35,
     "metadata": {},
     "output_type": "execute_result"
    }
   ],
   "source": [
    "df"
   ]
  },
  {
   "cell_type": "code",
   "execution_count": 36,
   "metadata": {},
   "outputs": [
    {
     "data": {
      "text/plain": [
       "array([ 0,  1,  2,  3,  4,  5,  6,  7,  8,  9, 10])"
      ]
     },
     "execution_count": 36,
     "metadata": {},
     "output_type": "execute_result"
    }
   ],
   "source": [
    "np.unique(df['index'])"
   ]
  },
  {
   "cell_type": "code",
   "execution_count": 34,
   "metadata": {},
   "outputs": [
    {
     "data": {
      "text/html": [
       "<div>\n",
       "<style scoped>\n",
       "    .dataframe tbody tr th:only-of-type {\n",
       "        vertical-align: middle;\n",
       "    }\n",
       "\n",
       "    .dataframe tbody tr th {\n",
       "        vertical-align: top;\n",
       "    }\n",
       "\n",
       "    .dataframe thead th {\n",
       "        text-align: right;\n",
       "    }\n",
       "</style>\n",
       "<table border=\"1\" class=\"dataframe\">\n",
       "  <thead>\n",
       "    <tr style=\"text-align: right;\">\n",
       "      <th></th>\n",
       "      <th>sub</th>\n",
       "      <th>ses</th>\n",
       "      <th>run</th>\n",
       "      <th>roi</th>\n",
       "      <th>index</th>\n",
       "      <th>max_acf_value</th>\n",
       "      <th>max_lag_time</th>\n",
       "    </tr>\n",
       "  </thead>\n",
       "  <tbody>\n",
       "    <tr>\n",
       "      <th>0</th>\n",
       "      <td>sub-0016</td>\n",
       "      <td>ses-01</td>\n",
       "      <td>run-02</td>\n",
       "      <td>0</td>\n",
       "      <td>5.0</td>\n",
       "      <td>0.542531</td>\n",
       "      <td>3.22</td>\n",
       "    </tr>\n",
       "    <tr>\n",
       "      <th>1</th>\n",
       "      <td>sub-0016</td>\n",
       "      <td>ses-01</td>\n",
       "      <td>run-02</td>\n",
       "      <td>1</td>\n",
       "      <td>5.0</td>\n",
       "      <td>0.362678</td>\n",
       "      <td>1.38</td>\n",
       "    </tr>\n",
       "    <tr>\n",
       "      <th>2</th>\n",
       "      <td>sub-0016</td>\n",
       "      <td>ses-01</td>\n",
       "      <td>run-02</td>\n",
       "      <td>2</td>\n",
       "      <td>5.0</td>\n",
       "      <td>0.600808</td>\n",
       "      <td>3.22</td>\n",
       "    </tr>\n",
       "    <tr>\n",
       "      <th>3</th>\n",
       "      <td>sub-0016</td>\n",
       "      <td>ses-01</td>\n",
       "      <td>run-02</td>\n",
       "      <td>3</td>\n",
       "      <td>5.0</td>\n",
       "      <td>0.511092</td>\n",
       "      <td>3.68</td>\n",
       "    </tr>\n",
       "    <tr>\n",
       "      <th>4</th>\n",
       "      <td>sub-0016</td>\n",
       "      <td>ses-01</td>\n",
       "      <td>run-02</td>\n",
       "      <td>4</td>\n",
       "      <td>5.0</td>\n",
       "      <td>0.654145</td>\n",
       "      <td>3.68</td>\n",
       "    </tr>\n",
       "    <tr>\n",
       "      <th>...</th>\n",
       "      <td>...</td>\n",
       "      <td>...</td>\n",
       "      <td>...</td>\n",
       "      <td>...</td>\n",
       "      <td>...</td>\n",
       "      <td>...</td>\n",
       "      <td>...</td>\n",
       "    </tr>\n",
       "    <tr>\n",
       "      <th>395</th>\n",
       "      <td>sub-0016</td>\n",
       "      <td>ses-01</td>\n",
       "      <td>run-02</td>\n",
       "      <td>395</td>\n",
       "      <td>5.0</td>\n",
       "      <td>0.408090</td>\n",
       "      <td>3.68</td>\n",
       "    </tr>\n",
       "    <tr>\n",
       "      <th>396</th>\n",
       "      <td>sub-0016</td>\n",
       "      <td>ses-01</td>\n",
       "      <td>run-02</td>\n",
       "      <td>396</td>\n",
       "      <td>5.0</td>\n",
       "      <td>0.452683</td>\n",
       "      <td>3.22</td>\n",
       "    </tr>\n",
       "    <tr>\n",
       "      <th>397</th>\n",
       "      <td>sub-0016</td>\n",
       "      <td>ses-01</td>\n",
       "      <td>run-02</td>\n",
       "      <td>397</td>\n",
       "      <td>5.0</td>\n",
       "      <td>0.429123</td>\n",
       "      <td>4.14</td>\n",
       "    </tr>\n",
       "    <tr>\n",
       "      <th>398</th>\n",
       "      <td>sub-0016</td>\n",
       "      <td>ses-01</td>\n",
       "      <td>run-02</td>\n",
       "      <td>398</td>\n",
       "      <td>5.0</td>\n",
       "      <td>0.542196</td>\n",
       "      <td>3.22</td>\n",
       "    </tr>\n",
       "    <tr>\n",
       "      <th>399</th>\n",
       "      <td>sub-0016</td>\n",
       "      <td>ses-01</td>\n",
       "      <td>run-02</td>\n",
       "      <td>399</td>\n",
       "      <td>5.0</td>\n",
       "      <td>0.557757</td>\n",
       "      <td>4.14</td>\n",
       "    </tr>\n",
       "  </tbody>\n",
       "</table>\n",
       "<p>400 rows × 7 columns</p>\n",
       "</div>"
      ],
      "text/plain": [
       "          sub     ses     run  roi  index  max_acf_value  max_lag_time\n",
       "0    sub-0016  ses-01  run-02    0    5.0       0.542531          3.22\n",
       "1    sub-0016  ses-01  run-02    1    5.0       0.362678          1.38\n",
       "2    sub-0016  ses-01  run-02    2    5.0       0.600808          3.22\n",
       "3    sub-0016  ses-01  run-02    3    5.0       0.511092          3.68\n",
       "4    sub-0016  ses-01  run-02    4    5.0       0.654145          3.68\n",
       "..        ...     ...     ...  ...    ...            ...           ...\n",
       "395  sub-0016  ses-01  run-02  395    5.0       0.408090          3.68\n",
       "396  sub-0016  ses-01  run-02  396    5.0       0.452683          3.22\n",
       "397  sub-0016  ses-01  run-02  397    5.0       0.429123          4.14\n",
       "398  sub-0016  ses-01  run-02  398    5.0       0.542196          3.22\n",
       "399  sub-0016  ses-01  run-02  399    5.0       0.557757          4.14\n",
       "\n",
       "[400 rows x 7 columns]"
      ]
     },
     "execution_count": 34,
     "metadata": {},
     "output_type": "execute_result"
    }
   ],
   "source": [
    "run_mean"
   ]
  },
  {
   "cell_type": "code",
   "execution_count": 90,
   "metadata": {},
   "outputs": [],
   "source": [
    "combined_df = pd.read_csv(join(xcorr_dir, 'total', 'sub-all_runtype-pain_xcorr-fmri-physio.tsv'), sep='\\t')\n"
   ]
  },
  {
   "cell_type": "code",
   "execution_count": 91,
   "metadata": {},
   "outputs": [
    {
     "data": {
      "text/html": [
       "<div>\n",
       "<style scoped>\n",
       "    .dataframe tbody tr th:only-of-type {\n",
       "        vertical-align: middle;\n",
       "    }\n",
       "\n",
       "    .dataframe tbody tr th {\n",
       "        vertical-align: top;\n",
       "    }\n",
       "\n",
       "    .dataframe thead th {\n",
       "        text-align: right;\n",
       "    }\n",
       "</style>\n",
       "<table border=\"1\" class=\"dataframe\">\n",
       "  <thead>\n",
       "    <tr style=\"text-align: right;\">\n",
       "      <th></th>\n",
       "      <th>sub</th>\n",
       "      <th>ses</th>\n",
       "      <th>run</th>\n",
       "      <th>roi</th>\n",
       "      <th>Maximum Correlation Value</th>\n",
       "      <th>Time Lag (s)</th>\n",
       "    </tr>\n",
       "  </thead>\n",
       "  <tbody>\n",
       "    <tr>\n",
       "      <th>0</th>\n",
       "      <td>sub-0061</td>\n",
       "      <td>ses-04</td>\n",
       "      <td>run-03</td>\n",
       "      <td>0</td>\n",
       "      <td>0.015488</td>\n",
       "      <td>-4.14</td>\n",
       "    </tr>\n",
       "    <tr>\n",
       "      <th>1</th>\n",
       "      <td>sub-0061</td>\n",
       "      <td>ses-04</td>\n",
       "      <td>run-03</td>\n",
       "      <td>1</td>\n",
       "      <td>0.010691</td>\n",
       "      <td>-10.12</td>\n",
       "    </tr>\n",
       "    <tr>\n",
       "      <th>2</th>\n",
       "      <td>sub-0061</td>\n",
       "      <td>ses-04</td>\n",
       "      <td>run-03</td>\n",
       "      <td>2</td>\n",
       "      <td>0.022655</td>\n",
       "      <td>27.14</td>\n",
       "    </tr>\n",
       "    <tr>\n",
       "      <th>3</th>\n",
       "      <td>sub-0061</td>\n",
       "      <td>ses-04</td>\n",
       "      <td>run-03</td>\n",
       "      <td>3</td>\n",
       "      <td>0.020641</td>\n",
       "      <td>20.24</td>\n",
       "    </tr>\n",
       "    <tr>\n",
       "      <th>4</th>\n",
       "      <td>sub-0061</td>\n",
       "      <td>ses-04</td>\n",
       "      <td>run-03</td>\n",
       "      <td>4</td>\n",
       "      <td>0.018622</td>\n",
       "      <td>19.32</td>\n",
       "    </tr>\n",
       "  </tbody>\n",
       "</table>\n",
       "</div>"
      ],
      "text/plain": [
       "        sub     ses     run  roi  Maximum Correlation Value  Time Lag (s)\n",
       "0  sub-0061  ses-04  run-03    0                   0.015488         -4.14\n",
       "1  sub-0061  ses-04  run-03    1                   0.010691        -10.12\n",
       "2  sub-0061  ses-04  run-03    2                   0.022655         27.14\n",
       "3  sub-0061  ses-04  run-03    3                   0.020641         20.24\n",
       "4  sub-0061  ses-04  run-03    4                   0.018622         19.32"
      ]
     },
     "execution_count": 91,
     "metadata": {},
     "output_type": "execute_result"
    }
   ],
   "source": [
    "# remove unnecessary columns and rows with NA values\n",
    "df = combined_df.drop(columns=['Unnamed: 0'])\n",
    "df = df.dropna()\n",
    "df.head()"
   ]
  },
  {
   "cell_type": "code",
   "execution_count": 92,
   "metadata": {},
   "outputs": [
    {
     "data": {
      "text/plain": [
       "133600"
      ]
     },
     "execution_count": 92,
     "metadata": {},
     "output_type": "execute_result"
    }
   ],
   "source": [
    "len(df)"
   ]
  },
  {
   "cell_type": "code",
   "execution_count": 93,
   "metadata": {},
   "outputs": [],
   "source": [
    "# Counting frequency of each 'sub' value\n",
    "frequency = df.groupby('sub').size().reset_index(name='xcorr_frequency_including_400roi')\n",
    "frequency['run_freq'] = frequency['xcorr_frequency_including_400roi'] / 400\n"
   ]
  },
  {
   "cell_type": "code",
   "execution_count": 94,
   "metadata": {},
   "outputs": [
    {
     "data": {
      "text/plain": [
       "4.282051282051282"
      ]
     },
     "execution_count": 94,
     "metadata": {},
     "output_type": "execute_result"
    }
   ],
   "source": [
    "sum(frequency.run_freq)/78"
   ]
  },
  {
   "cell_type": "code",
   "execution_count": 63,
   "metadata": {},
   "outputs": [
    {
     "data": {
      "text/html": [
       "<div>\n",
       "<style scoped>\n",
       "    .dataframe tbody tr th:only-of-type {\n",
       "        vertical-align: middle;\n",
       "    }\n",
       "\n",
       "    .dataframe tbody tr th {\n",
       "        vertical-align: top;\n",
       "    }\n",
       "\n",
       "    .dataframe thead th {\n",
       "        text-align: right;\n",
       "    }\n",
       "</style>\n",
       "<table border=\"1\" class=\"dataframe\">\n",
       "  <thead>\n",
       "    <tr style=\"text-align: right;\">\n",
       "      <th></th>\n",
       "      <th>sub</th>\n",
       "      <th>Frequency</th>\n",
       "      <th>run_freq</th>\n",
       "    </tr>\n",
       "  </thead>\n",
       "  <tbody>\n",
       "    <tr>\n",
       "      <th>0</th>\n",
       "      <td>sub-0015</td>\n",
       "      <td>800</td>\n",
       "      <td>2.0</td>\n",
       "    </tr>\n",
       "    <tr>\n",
       "      <th>1</th>\n",
       "      <td>sub-0016</td>\n",
       "      <td>2000</td>\n",
       "      <td>5.0</td>\n",
       "    </tr>\n",
       "    <tr>\n",
       "      <th>2</th>\n",
       "      <td>sub-0017</td>\n",
       "      <td>800</td>\n",
       "      <td>2.0</td>\n",
       "    </tr>\n",
       "    <tr>\n",
       "      <th>3</th>\n",
       "      <td>sub-0026</td>\n",
       "      <td>1200</td>\n",
       "      <td>3.0</td>\n",
       "    </tr>\n",
       "    <tr>\n",
       "      <th>4</th>\n",
       "      <td>sub-0028</td>\n",
       "      <td>800</td>\n",
       "      <td>2.0</td>\n",
       "    </tr>\n",
       "    <tr>\n",
       "      <th>...</th>\n",
       "      <td>...</td>\n",
       "      <td>...</td>\n",
       "      <td>...</td>\n",
       "    </tr>\n",
       "    <tr>\n",
       "      <th>73</th>\n",
       "      <td>sub-0128</td>\n",
       "      <td>1600</td>\n",
       "      <td>4.0</td>\n",
       "    </tr>\n",
       "    <tr>\n",
       "      <th>74</th>\n",
       "      <td>sub-0129</td>\n",
       "      <td>2400</td>\n",
       "      <td>6.0</td>\n",
       "    </tr>\n",
       "    <tr>\n",
       "      <th>75</th>\n",
       "      <td>sub-0131</td>\n",
       "      <td>1600</td>\n",
       "      <td>4.0</td>\n",
       "    </tr>\n",
       "    <tr>\n",
       "      <th>76</th>\n",
       "      <td>sub-0132</td>\n",
       "      <td>2400</td>\n",
       "      <td>6.0</td>\n",
       "    </tr>\n",
       "    <tr>\n",
       "      <th>77</th>\n",
       "      <td>sub-0133</td>\n",
       "      <td>2400</td>\n",
       "      <td>6.0</td>\n",
       "    </tr>\n",
       "  </tbody>\n",
       "</table>\n",
       "<p>78 rows × 3 columns</p>\n",
       "</div>"
      ],
      "text/plain": [
       "         sub  Frequency  run_freq\n",
       "0   sub-0015        800       2.0\n",
       "1   sub-0016       2000       5.0\n",
       "2   sub-0017        800       2.0\n",
       "3   sub-0026       1200       3.0\n",
       "4   sub-0028        800       2.0\n",
       "..       ...        ...       ...\n",
       "73  sub-0128       1600       4.0\n",
       "74  sub-0129       2400       6.0\n",
       "75  sub-0131       1600       4.0\n",
       "76  sub-0132       2400       6.0\n",
       "77  sub-0133       2400       6.0\n",
       "\n",
       "[78 rows x 3 columns]"
      ]
     },
     "execution_count": 63,
     "metadata": {},
     "output_type": "execute_result"
    }
   ],
   "source": [
    "frequency"
   ]
  },
  {
   "cell_type": "code",
   "execution_count": 78,
   "metadata": {},
   "outputs": [
    {
     "data": {
      "text/plain": [
       "1.0"
      ]
     },
     "execution_count": 78,
     "metadata": {},
     "output_type": "execute_result"
    }
   ],
   "source": [
    "frequency.run_freq.min()"
   ]
  },
  {
   "cell_type": "code",
   "execution_count": 47,
   "metadata": {},
   "outputs": [
    {
     "name": "stdout",
     "output_type": "stream",
     "text": [
      "min: -0.0105589330527896, max:0.3196946691205458\n"
     ]
    },
    {
     "data": {
      "image/png": "[encoded data removed]",
      "text/plain": [
       "<Figure size 640x480 with 1 Axes>"
      ]
     },
     "metadata": {},
     "output_type": "display_data"
    }
   ],
   "source": [
    "plt.hist(df['Maximum Correlation Value'])\n",
    "print(f\"min: {df['Maximum Correlation Value'].min()}, max:{df['Maximum Correlation Value'].max()}\")"
   ]
  },
  {
   "attachments": {},
   "cell_type": "markdown",
   "metadata": {},
   "source": [
    "## fisher z transform"
   ]
  },
  {
   "cell_type": "code",
   "execution_count": 69,
   "metadata": {},
   "outputs": [],
   "source": [
    "def fisher_z_transform(r):\n",
    "    return np.arctanh(r)\n",
    "\n",
    "df['Max_Corr_Value_Z']  = df.groupby('sub')['Maximum Correlation Value'].transform(fisher_z_transform)\n",
    "# df['Max_Corr_Value_Z'] = df['Maximum Correlation Value'].apply(fisher_z_transform)\n"
   ]
  },
  {
   "cell_type": "code",
   "execution_count": 71,
   "metadata": {},
   "outputs": [
    {
     "data": {
      "text/html": [
       "<div>\n",
       "<style scoped>\n",
       "    .dataframe tbody tr th:only-of-type {\n",
       "        vertical-align: middle;\n",
       "    }\n",
       "\n",
       "    .dataframe tbody tr th {\n",
       "        vertical-align: top;\n",
       "    }\n",
       "\n",
       "    .dataframe thead th {\n",
       "        text-align: right;\n",
       "    }\n",
       "</style>\n",
       "<table border=\"1\" class=\"dataframe\">\n",
       "  <thead>\n",
       "    <tr style=\"text-align: right;\">\n",
       "      <th></th>\n",
       "      <th>sub</th>\n",
       "      <th>ses</th>\n",
       "      <th>run</th>\n",
       "      <th>roi</th>\n",
       "      <th>Maximum Correlation Value</th>\n",
       "      <th>Time Lag (s)</th>\n",
       "      <th>Max_Corr_Value_Z</th>\n",
       "    </tr>\n",
       "  </thead>\n",
       "  <tbody>\n",
       "    <tr>\n",
       "      <th>0</th>\n",
       "      <td>sub-0061</td>\n",
       "      <td>ses-04</td>\n",
       "      <td>run-03</td>\n",
       "      <td>0</td>\n",
       "      <td>0.015488</td>\n",
       "      <td>-4.14</td>\n",
       "      <td>0.015490</td>\n",
       "    </tr>\n",
       "    <tr>\n",
       "      <th>1</th>\n",
       "      <td>sub-0061</td>\n",
       "      <td>ses-04</td>\n",
       "      <td>run-03</td>\n",
       "      <td>1</td>\n",
       "      <td>0.010691</td>\n",
       "      <td>-10.12</td>\n",
       "      <td>0.010691</td>\n",
       "    </tr>\n",
       "    <tr>\n",
       "      <th>2</th>\n",
       "      <td>sub-0061</td>\n",
       "      <td>ses-04</td>\n",
       "      <td>run-03</td>\n",
       "      <td>2</td>\n",
       "      <td>0.022655</td>\n",
       "      <td>27.14</td>\n",
       "      <td>0.022659</td>\n",
       "    </tr>\n",
       "    <tr>\n",
       "      <th>3</th>\n",
       "      <td>sub-0061</td>\n",
       "      <td>ses-04</td>\n",
       "      <td>run-03</td>\n",
       "      <td>3</td>\n",
       "      <td>0.020641</td>\n",
       "      <td>20.24</td>\n",
       "      <td>0.020644</td>\n",
       "    </tr>\n",
       "    <tr>\n",
       "      <th>4</th>\n",
       "      <td>sub-0061</td>\n",
       "      <td>ses-04</td>\n",
       "      <td>run-03</td>\n",
       "      <td>4</td>\n",
       "      <td>0.018622</td>\n",
       "      <td>19.32</td>\n",
       "      <td>0.018624</td>\n",
       "    </tr>\n",
       "    <tr>\n",
       "      <th>...</th>\n",
       "      <td>...</td>\n",
       "      <td>...</td>\n",
       "      <td>...</td>\n",
       "      <td>...</td>\n",
       "      <td>...</td>\n",
       "      <td>...</td>\n",
       "      <td>...</td>\n",
       "    </tr>\n",
       "    <tr>\n",
       "      <th>133595</th>\n",
       "      <td>sub-0133</td>\n",
       "      <td>ses-01</td>\n",
       "      <td>run-03</td>\n",
       "      <td>395</td>\n",
       "      <td>0.046390</td>\n",
       "      <td>16.10</td>\n",
       "      <td>0.046423</td>\n",
       "    </tr>\n",
       "    <tr>\n",
       "      <th>133596</th>\n",
       "      <td>sub-0133</td>\n",
       "      <td>ses-01</td>\n",
       "      <td>run-03</td>\n",
       "      <td>396</td>\n",
       "      <td>0.020235</td>\n",
       "      <td>15.64</td>\n",
       "      <td>0.020238</td>\n",
       "    </tr>\n",
       "    <tr>\n",
       "      <th>133597</th>\n",
       "      <td>sub-0133</td>\n",
       "      <td>ses-01</td>\n",
       "      <td>run-03</td>\n",
       "      <td>397</td>\n",
       "      <td>0.019442</td>\n",
       "      <td>-3.22</td>\n",
       "      <td>0.019445</td>\n",
       "    </tr>\n",
       "    <tr>\n",
       "      <th>133598</th>\n",
       "      <td>sub-0133</td>\n",
       "      <td>ses-01</td>\n",
       "      <td>run-03</td>\n",
       "      <td>398</td>\n",
       "      <td>0.028642</td>\n",
       "      <td>16.10</td>\n",
       "      <td>0.028650</td>\n",
       "    </tr>\n",
       "    <tr>\n",
       "      <th>133599</th>\n",
       "      <td>sub-0133</td>\n",
       "      <td>ses-01</td>\n",
       "      <td>run-03</td>\n",
       "      <td>399</td>\n",
       "      <td>0.025274</td>\n",
       "      <td>17.48</td>\n",
       "      <td>0.025279</td>\n",
       "    </tr>\n",
       "  </tbody>\n",
       "</table>\n",
       "<p>133600 rows × 7 columns</p>\n",
       "</div>"
      ],
      "text/plain": [
       "             sub     ses     run  roi  Maximum Correlation Value  \\\n",
       "0       sub-0061  ses-04  run-03    0                   0.015488   \n",
       "1       sub-0061  ses-04  run-03    1                   0.010691   \n",
       "2       sub-0061  ses-04  run-03    2                   0.022655   \n",
       "3       sub-0061  ses-04  run-03    3                   0.020641   \n",
       "4       sub-0061  ses-04  run-03    4                   0.018622   \n",
       "...          ...     ...     ...  ...                        ...   \n",
       "133595  sub-0133  ses-01  run-03  395                   0.046390   \n",
       "133596  sub-0133  ses-01  run-03  396                   0.020235   \n",
       "133597  sub-0133  ses-01  run-03  397                   0.019442   \n",
       "133598  sub-0133  ses-01  run-03  398                   0.028642   \n",
       "133599  sub-0133  ses-01  run-03  399                   0.025274   \n",
       "\n",
       "        Time Lag (s)  Max_Corr_Value_Z  \n",
       "0              -4.14          0.015490  \n",
       "1             -10.12          0.010691  \n",
       "2              27.14          0.022659  \n",
       "3              20.24          0.020644  \n",
       "4              19.32          0.018624  \n",
       "...              ...               ...  \n",
       "133595         16.10          0.046423  \n",
       "133596         15.64          0.020238  \n",
       "133597         -3.22          0.019445  \n",
       "133598         16.10          0.028650  \n",
       "133599         17.48          0.025279  \n",
       "\n",
       "[133600 rows x 7 columns]"
      ]
     },
     "execution_count": 71,
     "metadata": {},
     "output_type": "execute_result"
    }
   ],
   "source": [
    "df"
   ]
  },
  {
   "attachments": {},
   "cell_type": "markdown",
   "metadata": {},
   "source": [
    "## calculate summary statistics\n",
    "here, I average Maximum corr values, time lags \n",
    "* first by calculating 1) within runs, \n",
    "* then 2) aggregating corr values, time lags per roi averaged within subs, \n",
    "* then 3) group level stats per ROI"
   ]
  },
  {
   "cell_type": "code",
   "execution_count": 72,
   "metadata": {},
   "outputs": [
    {
     "name": "stderr",
     "output_type": "stream",
     "text": [
      "/var/folders/sq/9y9jm3711js9zfqyb64n8c840000gn/T/ipykernel_89503/1821671097.py:1: FutureWarning: The default value of numeric_only in DataFrameGroupBy.median is deprecated. In a future version, numeric_only will default to False. Either specify numeric_only or select only columns which should be valid for the function.\n",
      "  avg_per_ses = df.groupby(['sub', 'ses', 'roi']).median().reset_index()\n",
      "/var/folders/sq/9y9jm3711js9zfqyb64n8c840000gn/T/ipykernel_89503/1821671097.py:2: FutureWarning: The default value of numeric_only in DataFrameGroupBy.median is deprecated. In a future version, numeric_only will default to False. Either specify numeric_only or select only columns which should be valid for the function.\n",
      "  avg_per_sub = avg_per_ses.groupby(['sub', 'roi']).median().reset_index()\n",
      "/var/folders/sq/9y9jm3711js9zfqyb64n8c840000gn/T/ipykernel_89503/1821671097.py:3: FutureWarning: The default value of numeric_only in DataFrameGroupBy.median is deprecated. In a future version, numeric_only will default to False. Either specify numeric_only or select only columns which should be valid for the function.\n",
      "  group_level_avg = avg_per_sub.groupby('roi').median().reset_index()\n"
     ]
    }
   ],
   "source": [
    "avg_per_ses = df.groupby(['sub', 'ses', 'roi']).median().reset_index()\n",
    "avg_per_sub = avg_per_ses.groupby(['sub', 'roi']).median().reset_index()\n",
    "group_level_avg = avg_per_sub.groupby('roi').median().reset_index()\n",
    "group_level_avg['Avg_Max_Corr_Value'] = np.tanh(group_level_avg['Max_Corr_Value_Z'])\n"
   ]
  },
  {
   "cell_type": "code",
   "execution_count": 83,
   "metadata": {},
   "outputs": [
    {
     "data": {
      "text/html": [
       "<div>\n",
       "<style scoped>\n",
       "    .dataframe tbody tr th:only-of-type {\n",
       "        vertical-align: middle;\n",
       "    }\n",
       "\n",
       "    .dataframe tbody tr th {\n",
       "        vertical-align: top;\n",
       "    }\n",
       "\n",
       "    .dataframe thead th {\n",
       "        text-align: right;\n",
       "    }\n",
       "</style>\n",
       "<table border=\"1\" class=\"dataframe\">\n",
       "  <thead>\n",
       "    <tr style=\"text-align: right;\">\n",
       "      <th></th>\n",
       "      <th>roi</th>\n",
       "      <th>Maximum Correlation Value</th>\n",
       "      <th>Time Lag (s)</th>\n",
       "      <th>Max_Corr_Value_Z</th>\n",
       "      <th>Avg_Max_Corr_Value</th>\n",
       "    </tr>\n",
       "  </thead>\n",
       "  <tbody>\n",
       "    <tr>\n",
       "      <th>0</th>\n",
       "      <td>0</td>\n",
       "      <td>0.032894</td>\n",
       "      <td>10.2350</td>\n",
       "      <td>0.032914</td>\n",
       "      <td>0.032902</td>\n",
       "    </tr>\n",
       "    <tr>\n",
       "      <th>1</th>\n",
       "      <td>1</td>\n",
       "      <td>0.033896</td>\n",
       "      <td>8.9700</td>\n",
       "      <td>0.033925</td>\n",
       "      <td>0.033912</td>\n",
       "    </tr>\n",
       "    <tr>\n",
       "      <th>2</th>\n",
       "      <td>2</td>\n",
       "      <td>0.040096</td>\n",
       "      <td>9.0850</td>\n",
       "      <td>0.040149</td>\n",
       "      <td>0.040127</td>\n",
       "    </tr>\n",
       "    <tr>\n",
       "      <th>3</th>\n",
       "      <td>3</td>\n",
       "      <td>0.034049</td>\n",
       "      <td>8.4525</td>\n",
       "      <td>0.034072</td>\n",
       "      <td>0.034058</td>\n",
       "    </tr>\n",
       "    <tr>\n",
       "      <th>4</th>\n",
       "      <td>4</td>\n",
       "      <td>0.039678</td>\n",
       "      <td>8.9700</td>\n",
       "      <td>0.039728</td>\n",
       "      <td>0.039707</td>\n",
       "    </tr>\n",
       "  </tbody>\n",
       "</table>\n",
       "</div>"
      ],
      "text/plain": [
       "   roi  Maximum Correlation Value  Time Lag (s)  Max_Corr_Value_Z  \\\n",
       "0    0                   0.032894       10.2350          0.032914   \n",
       "1    1                   0.033896        8.9700          0.033925   \n",
       "2    2                   0.040096        9.0850          0.040149   \n",
       "3    3                   0.034049        8.4525          0.034072   \n",
       "4    4                   0.039678        8.9700          0.039728   \n",
       "\n",
       "   Avg_Max_Corr_Value  \n",
       "0            0.032902  \n",
       "1            0.033912  \n",
       "2            0.040127  \n",
       "3            0.034058  \n",
       "4            0.039707  "
      ]
     },
     "execution_count": 83,
     "metadata": {},
     "output_type": "execute_result"
    }
   ],
   "source": [
    "group_level_avg.head()"
   ]
  },
  {
   "cell_type": "code",
   "execution_count": 73,
   "metadata": {},
   "outputs": [
    {
     "data": {
      "text/html": [
       "<div>\n",
       "<style scoped>\n",
       "    .dataframe tbody tr th:only-of-type {\n",
       "        vertical-align: middle;\n",
       "    }\n",
       "\n",
       "    .dataframe tbody tr th {\n",
       "        vertical-align: top;\n",
       "    }\n",
       "\n",
       "    .dataframe thead th {\n",
       "        text-align: right;\n",
       "    }\n",
       "</style>\n",
       "<table border=\"1\" class=\"dataframe\">\n",
       "  <thead>\n",
       "    <tr style=\"text-align: right;\">\n",
       "      <th></th>\n",
       "      <th>sub</th>\n",
       "      <th>ses</th>\n",
       "      <th>run</th>\n",
       "      <th>roi</th>\n",
       "      <th>Maximum Correlation Value</th>\n",
       "      <th>Time Lag (s)</th>\n",
       "      <th>Max_Corr_Value_Z</th>\n",
       "    </tr>\n",
       "  </thead>\n",
       "  <tbody>\n",
       "    <tr>\n",
       "      <th>0</th>\n",
       "      <td>sub-0061</td>\n",
       "      <td>ses-04</td>\n",
       "      <td>run-03</td>\n",
       "      <td>0</td>\n",
       "      <td>0.015488</td>\n",
       "      <td>-4.14</td>\n",
       "      <td>0.015490</td>\n",
       "    </tr>\n",
       "    <tr>\n",
       "      <th>1</th>\n",
       "      <td>sub-0061</td>\n",
       "      <td>ses-04</td>\n",
       "      <td>run-03</td>\n",
       "      <td>1</td>\n",
       "      <td>0.010691</td>\n",
       "      <td>-10.12</td>\n",
       "      <td>0.010691</td>\n",
       "    </tr>\n",
       "    <tr>\n",
       "      <th>2</th>\n",
       "      <td>sub-0061</td>\n",
       "      <td>ses-04</td>\n",
       "      <td>run-03</td>\n",
       "      <td>2</td>\n",
       "      <td>0.022655</td>\n",
       "      <td>27.14</td>\n",
       "      <td>0.022659</td>\n",
       "    </tr>\n",
       "    <tr>\n",
       "      <th>3</th>\n",
       "      <td>sub-0061</td>\n",
       "      <td>ses-04</td>\n",
       "      <td>run-03</td>\n",
       "      <td>3</td>\n",
       "      <td>0.020641</td>\n",
       "      <td>20.24</td>\n",
       "      <td>0.020644</td>\n",
       "    </tr>\n",
       "    <tr>\n",
       "      <th>4</th>\n",
       "      <td>sub-0061</td>\n",
       "      <td>ses-04</td>\n",
       "      <td>run-03</td>\n",
       "      <td>4</td>\n",
       "      <td>0.018622</td>\n",
       "      <td>19.32</td>\n",
       "      <td>0.018624</td>\n",
       "    </tr>\n",
       "  </tbody>\n",
       "</table>\n",
       "</div>"
      ],
      "text/plain": [
       "        sub     ses     run  roi  Maximum Correlation Value  Time Lag (s)  \\\n",
       "0  sub-0061  ses-04  run-03    0                   0.015488         -4.14   \n",
       "1  sub-0061  ses-04  run-03    1                   0.010691        -10.12   \n",
       "2  sub-0061  ses-04  run-03    2                   0.022655         27.14   \n",
       "3  sub-0061  ses-04  run-03    3                   0.020641         20.24   \n",
       "4  sub-0061  ses-04  run-03    4                   0.018622         19.32   \n",
       "\n",
       "   Max_Corr_Value_Z  \n",
       "0          0.015490  \n",
       "1          0.010691  \n",
       "2          0.022659  \n",
       "3          0.020644  \n",
       "4          0.018624  "
      ]
     },
     "execution_count": 73,
     "metadata": {},
     "output_type": "execute_result"
    }
   ],
   "source": [
    "df.head()"
   ]
  },
  {
   "cell_type": "code",
   "execution_count": 74,
   "metadata": {},
   "outputs": [
    {
     "data": {
      "image/png": "[encoded data removed]",
      "text/plain": [
       "<Figure size 600x200 with 1 Axes>"
      ]
     },
     "metadata": {},
     "output_type": "display_data"
    }
   ],
   "source": [
    "# Define the colors at specific points\n",
    "colors = [\n",
    "    # (-1, \"#120041\"),  # Start with blue at -1.9\n",
    "    # (-0.8, \"#2500fa\"),\n",
    "    # (-0.6, \"#84c6fd\"),  # Start with blue at -1.9\n",
    "    (0, \"white\"),    # Transition to white at 0\n",
    "    (0.01, \"#d50044\"),\n",
    "    (0.02, \"#ff0000\"),    # Start transitioning to red just after 0 towards 1.2\n",
    "    (0.03, \"#ffd400\")  # End with yellow at 1.2\n",
    "]\n",
    "\n",
    "colors_with_opacity = [\n",
    "    # (-1, to_rgba(\"#3661ab\", alpha=1.0)),  # Fully opaque\n",
    "    # (-0.8, to_rgba(\"#63a4ff\", alpha=0.8)),  # Fully opaque\n",
    "    # # (-0.1, to_rgba(\"#008bff\", alpha=0.6)),  # Fully opaque\n",
    "    (0, to_rgba(\"white\", alpha=1.0)),       # Fully opaque\n",
    "    # (0.1, to_rgba(\"#d50044\", alpha=0.6)),   # 30% opacity\n",
    "    (.02, to_rgba(\"#ffa300\", alpha=0.8)),   # 60% opacity\n",
    "    (0.03, to_rgba(\"#ff0000\", alpha=1.0))    # Fully opaque\n",
    "]\n",
    "\n",
    "\n",
    "\n",
    "# Normalize the points to the [0, 1] interval\n",
    "norm_points = np.linspace(0, .064, len(colors_with_opacity))\n",
    "norm_colors = [c[1] for c in colors_with_opacity]\n",
    "norm_points = (norm_points - norm_points.min()) / (norm_points.max() - norm_points.min())\n",
    "\n",
    "# Create a custom colormap\n",
    "xcorr_cmap = LinearSegmentedColormap.from_list(\"custom_gradient\", list(zip(norm_points, norm_colors)))\n",
    "\n",
    "# Create a gradient image\n",
    "gradient = np.linspace(0, 1, 256)\n",
    "gradient = np.vstack((gradient, gradient))\n",
    "\n",
    "# Plot the gradient\n",
    "fig, ax = plt.subplots(figsize=(6, 2))\n",
    "ax.imshow(gradient, aspect='auto', cmap=xcorr_cmap)\n",
    "ax.set_axis_off()\n",
    "\n",
    "plt.show()\n"
   ]
  },
  {
   "attachments": {},
   "cell_type": "markdown",
   "metadata": {},
   "source": [
    "# plot X corr"
   ]
  },
  {
   "cell_type": "code",
   "execution_count": 76,
   "metadata": {},
   "outputs": [
    {
     "name": "stderr",
     "output_type": "stream",
     "text": [
      "pixdim[1,2,3] should be non-zero; setting 0 dims to 1\n"
     ]
    },
    {
     "data": {
      "image/png": "[encoded data removed]",
      "text/plain": [
       "<Figure size 1100x300 with 2 Axes>"
      ]
     },
     "metadata": {},
     "output_type": "display_data"
    }
   ],
   "source": [
    "schaefer = nntdata.fetch_schaefer2018('fslr32k')['400Parcels7Networks']\n",
    "parc = Parcellater(dlabel_to_gifti(schaefer), 'fsLR')\n",
    "roi_xcorr = group_level_avg['Avg_Max_Corr_Value']\n",
    "roidata = parc.inverse_transform(roi_xcorr)\n",
    "\n",
    "maxval = np.max(roi_xcorr);    minval = np.min(roi_xcorr); sd = np.std(roi_xcorr)\n",
    "plot_brain_surfaces(image=roidata, cbar_label='Cross-correlation values', cmap=xcorr_cmap, color_range=(minval, maxval))\n",
    "plt.show()"
   ]
  },
  {
   "cell_type": "code",
   "execution_count": 77,
   "metadata": {},
   "outputs": [
    {
     "data": {
      "text/plain": [
       "(array([  3.,   6.,  20.,  31.,  65.,  80., 104.,  66.,  22.,   3.]),\n",
       " array([0.02378357, 0.02625841, 0.02873324, 0.03120808, 0.03368292,\n",
       "        0.03615775, 0.03863259, 0.04110742, 0.04358226, 0.04605709,\n",
       "        0.04853193]),\n",
       " <BarContainer object of 10 artists>)"
      ]
     },
     "execution_count": 77,
     "metadata": {},
     "output_type": "execute_result"
    },
    {
     "data": {
      "image/png": "[encoded data removed]",
      "text/plain": [
       "<Figure size 640x480 with 1 Axes>"
      ]
     },
     "metadata": {},
     "output_type": "display_data"
    }
   ],
   "source": [
    "plt.hist(roi_xcorr)"
   ]
  },
  {
   "cell_type": "code",
   "execution_count": 61,
   "metadata": {},
   "outputs": [
    {
     "data": {
      "image/png": "[encoded data removed]",
      "text/plain": [
       "<Figure size 600x200 with 1 Axes>"
      ]
     },
     "metadata": {},
     "output_type": "display_data"
    }
   ],
   "source": [
    "# Define the colors at specific points\n",
    "colors = [\n",
    "    # (-5.4, \"#120041\"),  # Start with blue at -1.9\n",
    "    # (-3.6, \"#2500fa\"),\n",
    "    # (-1.8, \"#84c6fd\"),  # Start with blue at -1.9\n",
    "    (0, \"#80ff4a\"),    # Transition to white at 0\n",
    "    # (4, \"#fdbb2d\"),\n",
    "    # (5, \"#09792c\"),    # Start transitioning to red just after 0 towards 1.2\n",
    "    (12, \"#0043ff\")  # End with yellow at 1.2\n",
    "]\n",
    "\n",
    "colors_with_opacity = [\n",
    "    # (-5.4, to_rgba(\"#3661ab\", alpha=1.0)),  # Fully opaque\n",
    "    # (-3.6, to_rgba(\"#63a4ff\", alpha=0.8)),  # Fully opaque\n",
    "    # (-0.1, to_rgba(\"#008bff\", alpha=0.6)),  # Fully opaque\n",
    "    (0, to_rgba(\"#80ff4a\", alpha=1.0)),       # Fully opaque\n",
    "    # (4, to_rgba(\"#fdbb2d\", alpha=0.6)),   # 30% opacity\n",
    "    # (6, to_rgba(\"#09792c\", alpha=0.8)),   # 60% opacity\n",
    "    (12, to_rgba(\"#0043ff\", alpha=1.0))    # Fully opaque\n",
    "]\n",
    "\n",
    "\n",
    "\n",
    "# Normalize the points to the [0, 1] interval\n",
    "norm_points = np.linspace(0,12, len(colors_with_opacity))\n",
    "norm_colors = [c[1] for c in colors_with_opacity]\n",
    "norm_points = (norm_points - norm_points.min()) / (norm_points.max() - norm_points.min())\n",
    "\n",
    "# Create a custom colormap\n",
    "lag_cmap = LinearSegmentedColormap.from_list(\"custom_gradient\", list(zip(norm_points, norm_colors)))\n",
    "\n",
    "# Create a gradient image\n",
    "gradient = np.linspace(0, 1, 256)\n",
    "gradient = np.vstack((gradient, gradient))\n",
    "\n",
    "# Plot the gradient\n",
    "fig, ax = plt.subplots(figsize=(6, 2))\n",
    "ax.imshow(gradient, aspect='auto', cmap=lag_cmap)\n",
    "ax.set_axis_off()\n",
    "\n",
    "plt.show()\n"
   ]
  },
  {
   "cell_type": "code",
   "execution_count": 62,
   "metadata": {},
   "outputs": [
    {
     "name": "stderr",
     "output_type": "stream",
     "text": [
      "pixdim[1,2,3] should be non-zero; setting 0 dims to 1\n"
     ]
    },
    {
     "data": {
      "image/png": "[encoded data removed]",
      "text/plain": [
       "<Figure size 1100x300 with 2 Axes>"
      ]
     },
     "metadata": {},
     "output_type": "display_data"
    }
   ],
   "source": [
    "# xcorr_fname = \n",
    "# group_level_avg  =pd.read_csv(xcorr_fname, '\\t')\n",
    "\n",
    "schaefer = nntdata.fetch_schaefer2018('fslr32k')['400Parcels7Networks']\n",
    "parc = Parcellater(dlabel_to_gifti(schaefer), 'fsLR')\n",
    "roi_timelag = group_level_avg['Time Lag (s)']\n",
    "roidata = parc.inverse_transform(roi_timelag)\n",
    "\n",
    "maxval = np.max(roi_timelag);    minval = np.min(roi_timelag); sd = np.std(roi_timelag)\n",
    "plot_brain_surfaces(image=roidata, cbar_label='Time Lag (s)', cmap=lag_cmap, color_range=(minval+sd, maxval-sd))\n",
    "plt.show()"
   ]
  }
 ],
 "metadata": {
  "kernelspec": {
   "display_name": "physio",
   "language": "python",
   "name": "python3"
  },
  "language_info": {
   "codemirror_mode": {
    "name": "ipython",
    "version": 3
   },
   "file_extension": ".py",
   "mimetype": "text/x-python",
   "name": "python",
   "nbconvert_exporter": "python",
   "pygments_lexer": "ipython3",
   "version": "3.11.4"
  },
  "orig_nbformat": 4
 },
 "nbformat": 4,
 "nbformat_minor": 2
}
