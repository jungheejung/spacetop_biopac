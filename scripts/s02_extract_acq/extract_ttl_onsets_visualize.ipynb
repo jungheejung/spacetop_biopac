{
 "cells": [
  {
   "cell_type": "markdown",
   "metadata": {},
   "source": [
    "# purpose of this notebook\n",
    "1. split runs with \"trigger event\" \n",
    "    - e.g. binarize the values and identify start stop indices\n",
    "2. extract ttl onsets\n",
    "    - convert each event into trial number\n",
    "    - do this based on two events: expect and actual\n",
    "\n",
    "# TODO:\n",
    "- [ ] identify BIDS scheme for physio data \n",
    "- [ ] flag files without ANISO\n",
    "- [ ] flag files with less than 5 runs\n",
    "- [ ] for those runs, we need to manually assign run numbers (biopac will collect back to back)\n",
    "- [ ] change main_dir directory when running on discovery\n",
    "- [ ] create metadata, of folders and how columns were calculated \n",
    "- [ ] remove unnecessary print statements\n",
    "# \n",
    "\n",
    "estimated run time: 398.76"
   ]
  },
  {
   "cell_type": "code",
   "execution_count": 1,
   "metadata": {},
   "outputs": [],
   "source": [
    "import neurokit2 as nk\n",
    "import pandas as pd\n",
    "import numpy as np\n",
    "import seaborn as sns\n",
    "import matplotlib.pyplot as plt\n",
    "import itertools\n",
    "import os, glob, shutil, datetime\n",
    "from pathlib import Path\n",
    "import json"
   ]
  },
  {
   "cell_type": "code",
   "execution_count": 2,
   "metadata": {},
   "outputs": [],
   "source": [
    "%matplotlib inline\n",
    "plt.rcParams['figure.figsize'] = [15, 9]  # Bigger images"
   ]
  },
  {
   "cell_type": "markdown",
   "metadata": {},
   "source": [
    "functions"
   ]
  },
  {
   "cell_type": "code",
   "execution_count": 15,
   "metadata": {},
   "outputs": [],
   "source": [
    "def binarize_channel(data, origin_col, new_col, threshold, binary_h, binary_l):\n",
    "    \"\"\"\n",
    "    data: pandas dataframe. acquisition file\n",
    "    origin_col: columns with raw signal\n",
    "    new_col: new columns for saving binarized origin_col values in\n",
    "    threshold: int. threshold for binarizing values within pandas column\n",
    "    binary_h, binary_l: two numbers. e.g. 5, 0 or 1, 0\n",
    "\n",
    "    \"\"\"\n",
    "    data.loc[data[origin_col] > threshold, new_col] = binary_h\n",
    "    data.loc[data[origin_col] <= threshold, new_col] = binary_l\n",
    "\n"
   ]
  },
  {
   "cell_type": "code",
   "execution_count": 3,
   "metadata": {},
   "outputs": [
    {
     "name": "stdout",
     "output_type": "stream",
     "text": [
      "/Volumes/spacetop\n",
      "/Volumes/spacetop/biopac/dartmouth/b03_extract_ttl\n"
     ]
    }
   ],
   "source": [
    "# %% directories ___________________________________\n",
    "# current_dir = os.getcwd()\n",
    "# main_dir = Path(current_dir).parents[1]\n",
    "\n",
    "# %% temporary\n",
    "main_dir = '/Volumes/spacetop'\n",
    "print(main_dir)\n",
    "save_dir = os.path.join(main_dir, 'biopac', 'dartmouth', 'b03_extract_ttl')\n",
    "print(save_dir)"
   ]
  },
  {
   "cell_type": "code",
   "execution_count": 8,
   "metadata": {},
   "outputs": [],
   "source": [
    "acq_list = glob.glob(os.path.join(main_dir, 'biopac', 'dartmouth', 'b02_sorted', 'sub-' + ('[0-9]' * 4), '*', '*task-social*_physio.acq'), recursive = True)\n",
    "flaglist = []"
   ]
  },
  {
   "cell_type": "code",
   "execution_count": 59,
   "metadata": {},
   "outputs": [],
   "source": [
    "# extract info\n",
    "acq = acq_list[3]\n",
    "filename  = os.path.basename(acq)\n",
    "sub = [match for match in filename.split('_') if \"sub\" in match][0]\n",
    "ses = [match for match in filename.split('_') if \"ses\" in match][0] # 'ses-03'\n",
    "task = [match for match in filename.split('_') if \"task\" in match][0]"
   ]
  },
  {
   "cell_type": "code",
   "execution_count": 60,
   "metadata": {},
   "outputs": [
    {
     "name": "stdout",
     "output_type": "stream",
     "text": [
      "sub-0050 ses-04 task-social\n"
     ]
    }
   ],
   "source": [
    "print(sub, ses, task)"
   ]
  },
  {
   "cell_type": "markdown",
   "metadata": {},
   "source": [
    "# Previous code \n",
    "* run transitions were detected based on the Trigger channel.\n",
    "* was not able to handle runs that started before an MR scanner. \n",
    "* See plot below. Note that this dataframe has a signal in the beginning.\n",
    "* Previous code would treat this as the beginning of the experiment and break the code."
   ]
  },
  {
   "cell_type": "code",
   "execution_count": 11,
   "metadata": {},
   "outputs": [
    {
     "data": {
      "text/plain": [
       "Text(0.5, 1.0, 'plot signals from fMRI Aniso trigger. Also plot channel TRIGGER. ')"
      ]
     },
     "execution_count": 11,
     "metadata": {},
     "output_type": "execute_result"
    },
    {
     "data": {
      "image/png": "[encoded data removed]",
      "text/plain": [
       "<Figure size 1080x648 with 1 Axes>"
      ]
     },
     "metadata": {
      "needs_background": "light"
     },
     "output_type": "display_data"
    }
   ],
   "source": [
    "spacetop_data, spacetop_samplingrate = nk.read_acqknowledge(acq)\n",
    "plt.plot(spacetop_data['fMRI Trigger - CBLCFMA - Current Feedba'])\n",
    "plt.plot(spacetop_data['trigger'])\n",
    "plt.title(\"plot signals from fMRI Aniso trigger. Also plot channel TRIGGER. \")"
   ]
  },
  {
   "cell_type": "code",
   "execution_count": 12,
   "metadata": {},
   "outputs": [
    {
     "data": {
      "text/plain": [
       "[<matplotlib.lines.Line2D at 0x15e30d7c0>]"
      ]
     },
     "execution_count": 12,
     "metadata": {},
     "output_type": "execute_result"
    },
    {
     "data": {
      "image/png": "[encoded data removed]",
      "text/plain": [
       "<Figure size 1080x648 with 1 Axes>"
      ]
     },
     "metadata": {
      "needs_background": "light"
     },
     "output_type": "display_data"
    }
   ],
   "source": [
    "plt.plot(spacetop_data['fMRI Trigger - CBLCFMA - Current Feedba'][51403:51403+460*2+1])"
   ]
  },
  {
   "cell_type": "markdown",
   "metadata": {},
   "source": [
    "# What needs to be done\n",
    "* Signals directly from Channel :: **fMRI Trigger - CBLCFMA - Current Feedba** should be the golden standard\n",
    "* We'll use Pandas rolling window function to downsample transitions\n",
    "* afterwards, I identify the min, max signals in the corresponding channel and binarize the signals if above/below the mid value of total signals"
   ]
  },
  {
   "cell_type": "code",
   "execution_count": 61,
   "metadata": {},
   "outputs": [
    {
     "name": "stdout",
     "output_type": "stream",
     "text": [
      "0.10717640752377718\n",
      "Int64Index([51404, 899340, 1750768, 2593712, 3425265, 4279821], dtype='int64')\n",
      "Int64Index([852720, 1701576, 2553004, 3395949, 4227501, 5082057], dtype='int64')\n"
     ]
    }
   ],
   "source": [
    "spacetop_data['mr_trigger'] = spacetop_data['fMRI Trigger - CBLCFMA - Current Feedba'].rolling(window=460*2).mean()\n",
    "spacetop_data['mr_trigger']\n",
    "mid_val = (np.max(spacetop_data['mr_trigger']) - np.min(spacetop_data['mr_trigger']))/2\n",
    "print(mid_val)\n",
    "binarize_channel(spacetop_data,\n",
    "                    origin_col='mr_trigger',\n",
    "                    new_col='mr_aniso',\n",
    "                    threshold=mid_val,\n",
    "                    binary_h=5,\n",
    "                binary_l=0)\n",
    "start_df = spacetop_data[spacetop_data['mr_aniso'] > spacetop_data['mr_aniso'].shift(1)].index\n",
    "stop_df = spacetop_data[spacetop_data['mr_aniso'] < spacetop_data['mr_aniso'].shift(1)].index\n",
    "print(start_df)\n",
    "print(stop_df)"
   ]
  },
  {
   "cell_type": "code",
   "execution_count": 18,
   "metadata": {},
   "outputs": [
    {
     "data": {
      "text/plain": [
       "[<matplotlib.lines.Line2D at 0x15e3a2280>]"
      ]
     },
     "execution_count": 18,
     "metadata": {},
     "output_type": "execute_result"
    },
    {
     "data": {
      "image/png": "[encoded data removed]",
      "text/plain": [
       "<Figure size 1080x648 with 1 Axes>"
      ]
     },
     "metadata": {
      "needs_background": "light"
     },
     "output_type": "display_data"
    }
   ],
   "source": [
    "plt.plot(spacetop_data['fMRI Trigger - CBLCFMA - Current Feedba'].rolling(window=460*2).mean())"
   ]
  },
  {
   "cell_type": "markdown",
   "metadata": {},
   "source": [
    "# TADA! we now have a clean run transition, based on the fMRI aniso trigger channel"
   ]
  },
  {
   "cell_type": "code",
   "execution_count": 19,
   "metadata": {},
   "outputs": [
    {
     "data": {
      "text/plain": [
       "Text(0.5, 1.0, 'identify transitions')"
      ]
     },
     "execution_count": 19,
     "metadata": {},
     "output_type": "execute_result"
    },
    {
     "data": {
      "image/png": "[encoded data removed]",
      "text/plain": [
       "<Figure size 1080x648 with 1 Axes>"
      ]
     },
     "metadata": {
      "needs_background": "light"
     },
     "output_type": "display_data"
    }
   ],
   "source": [
    "plt.plot(spacetop_data['mr_aniso'])\n",
    "# plt.plot(spacetop_data['trigger'])\n",
    "plt.title(\"identify transitions\")"
   ]
  },
  {
   "cell_type": "code",
   "execution_count": 20,
   "metadata": {},
   "outputs": [
    {
     "name": "stdout",
     "output_type": "stream",
     "text": [
      "acq_runs_with_ttl: [1, 4]\n"
     ]
    }
   ],
   "source": [
    "spacetop_data['mr_trigger'] = spacetop_data['fMRI Trigger - CBLCFMA - Current Feedba'].rolling(window=460*2).mean()\n",
    "# %% EV trigger :: identify transitions based on \"trigger\" ev \n",
    "mid_val = (np.max(spacetop_data['mr_trigger']) -\n",
    "            np.min(spacetop_data['mr_trigger'])) / 2\n",
    "binarize_channel(spacetop_data,\n",
    "                    origin_col='mr_trigger',\n",
    "                    new_col='mr_aniso',\n",
    "                    threshold=mid_val,\n",
    "                    binary_h=5,\n",
    "                    binary_l=0)\n",
    "start_df = spacetop_data[spacetop_data['mr_aniso'] > spacetop_data['mr_aniso'].shift(1)].index\n",
    "stop_df = spacetop_data[spacetop_data['mr_aniso'] < spacetop_data['mr_aniso'].shift(1)].index\n",
    "\n",
    "# %% EV TTL :: identify ttl events based on TTL column\n",
    "spacetop_data['TTL'] = spacetop_data[\n",
    "    'TSA2 TTL - CBLCFMA - Current Feedback M'].rolling(\n",
    "        window=2000).mean()\n",
    "binarize_channel(spacetop_data,\n",
    "                    origin_col='TTL',\n",
    "                    new_col='ttl_aniso',\n",
    "                    threshold=5,\n",
    "                    binary_h=5,\n",
    "                    binary_l=0)\n",
    "# %% EV stimuli :: \n",
    "mid_val = (np.max(spacetop_data['administer']) - np.min(spacetop_data['administer']))/2\n",
    "binarize_channel(spacetop_data,\n",
    "            origin_col='administer',\n",
    "            new_col='stimuli',\n",
    "            threshold=mid_val,\n",
    "            binary_h=5,\n",
    "            binary_l=0)\n",
    "\n",
    "df_transition = pd.DataFrame({\n",
    "                'start_df': start_df, \n",
    "                'stop_df': stop_df\n",
    "                })\n",
    "\n",
    "for r in range(len(start_df)):\n",
    "    if (stop_df[r] - start_df[r]) / 2000 < 300:\n",
    "        spacetop_data.drop(spacetop_data.index[start_df[r]:stop_df[r]],\n",
    "                            axis=0,\n",
    "                            inplace=True)\n",
    "        start_df.pop(r)\n",
    "        stop_df.pop(r)\n",
    "# identify runs with TTL signal\n",
    "ttl_bool = []\n",
    "for r in range(len(start_df)):\n",
    "    bool_val = np.unique(spacetop_data.iloc[df_transition.start_df[r]:df_transition.stop_df[r],spacetop_data.columns.get_loc('ttl_aniso')]).any()\n",
    "    ttl_bool.append(bool_val)\n",
    "\n",
    "acq_runs_with_ttl = [i for i, x in enumerate(ttl_bool) if x]\n",
    "print(f\"acq_runs_with_ttl: {acq_runs_with_ttl}\")\n"
   ]
  },
  {
   "cell_type": "code",
   "execution_count": 51,
   "metadata": {},
   "outputs": [
    {
     "data": {
      "text/plain": [
       "Int64Index([50484, 899340, 1750768, 2593712, 3425265, 4279821], dtype='int64')"
      ]
     },
     "execution_count": 51,
     "metadata": {},
     "output_type": "execute_result"
    }
   ],
   "source": [
    "start_df\n",
    "# stop_df"
   ]
  },
  {
   "cell_type": "code",
   "execution_count": null,
   "metadata": {},
   "outputs": [],
   "source": []
  },
  {
   "cell_type": "code",
   "execution_count": 50,
   "metadata": {},
   "outputs": [
    {
     "data": {
      "text/plain": [
       "Text(0.5, 1.0, 'blue is fMRI aniso trigger. Orange is when the experiment starts with first trigger\\n note that we need to discard the first trigger - it is not deetected by the experiment')"
      ]
     },
     "execution_count": 50,
     "metadata": {},
     "output_type": "execute_result"
    },
    {
     "data": {
      "image/png": "[encoded data removed]",
      "text/plain": [
       "<Figure size 1080x648 with 1 Axes>"
      ]
     },
     "metadata": {
      "needs_background": "light"
     },
     "output_type": "display_data"
    }
   ],
   "source": [
    "# plt.plot(spacetop_data['mr_aniso'][0:200000])\n",
    "plt.plot(spacetop_data['fMRI Trigger - CBLCFMA - Current Feedba'][0:100000])\n",
    "plt.plot(spacetop_data['trigger'][0:100000])\n",
    "plt.title('blue is fMRI aniso trigger. Orange is when the experiment starts with first trigger\\n note that we need to discard the first trigger - it is not deetected by the experiment')"
   ]
  },
  {
   "cell_type": "code",
   "execution_count": 66,
   "metadata": {},
   "outputs": [
    {
     "name": "stdout",
     "output_type": "stream",
     "text": [
      "Int64Index([51404, 899340, 1750768, 2593712, 3425265, 4279821], dtype='int64')\n"
     ]
    }
   ],
   "source": [
    "spacetop_data['mr_trigger'] = spacetop_data['fMRI Trigger - CBLCFMA - Current Feedba'].rolling(window=460*2).mean()\n",
    "# %% EV trigger :: identify transitions based on \"trigger\" ev \n",
    "mid_val = (np.max(spacetop_data['mr_trigger']) -\n",
    "            np.min(spacetop_data['mr_trigger'])) / 2\n",
    "binarize_channel(spacetop_data,\n",
    "                    origin_col='mr_trigger',\n",
    "                    new_col='mr_aniso',\n",
    "                    threshold=mid_val,\n",
    "                    binary_h=5,\n",
    "                    binary_l=0)\n",
    "start_df = spacetop_data[spacetop_data['mr_aniso'] > spacetop_data['mr_aniso'].shift(1)].index\n",
    "stop_df = spacetop_data[spacetop_data['mr_aniso'] < spacetop_data['mr_aniso'].shift(1)].index\n",
    "print(start_df)\n",
    "sdf= spacetop_data.copy()\n",
    "sdf.loc[start_df[0]-2:start_df[0]+2, 'fMRI Trigger - CBLCFMA - Current Feedba'] = 0"
   ]
  },
  {
   "cell_type": "code",
   "execution_count": 71,
   "metadata": {},
   "outputs": [
    {
     "name": "stdout",
     "output_type": "stream",
     "text": [
      "Int64Index([52324, 899340, 1750768, 2593712, 3425265, 4279821], dtype='int64')\n",
      "Int64Index([852720, 1701576, 2553004, 3395949, 4227501, 5082057], dtype='int64')\n"
     ]
    }
   ],
   "source": [
    "sdf['mr_trigger'] = sdf['fMRI Trigger - CBLCFMA - Current Feedba'].rolling(window=460*2).mean()\n",
    "mid_val = (np.max(sdf['mr_trigger']) -\n",
    "            np.min(sdf['mr_trigger'])) / 2\n",
    "binarize_channel(sdf,\n",
    "                    origin_col='mr_trigger',\n",
    "                    new_col='mr_aniso',\n",
    "                    threshold=mid_val,\n",
    "                    binary_h=5,\n",
    "                    binary_l=0)\n",
    "nstart_df = sdf[sdf['mr_aniso'] > sdf['mr_aniso'].shift(1)].index\n",
    "nstop_df = sdf[sdf['mr_aniso'] < sdf['mr_aniso'].shift(1)].index\n",
    "print(nstart_df)\n",
    "print(nstop_df)"
   ]
  },
  {
   "cell_type": "code",
   "execution_count": 84,
   "metadata": {},
   "outputs": [
    {
     "data": {
      "text/plain": [
       "52323    48.742676\n",
       "52324    48.748779\n",
       "52325    48.739624\n",
       "53243    48.730469\n",
       "53244    48.745728\n",
       "53245    48.742676\n",
       "54163    48.739624\n",
       "54164    48.739624\n",
       "54165    48.748779\n",
       "Name: fMRI Trigger - CBLCFMA - Current Feedba, dtype: float64"
      ]
     },
     "execution_count": 84,
     "metadata": {},
     "output_type": "execute_result"
    },
    {
     "data": {
      "image/png": "[encoded data removed]",
      "text/plain": [
       "<Figure size 1080x648 with 1 Axes>"
      ]
     },
     "metadata": {
      "needs_background": "light"
     },
     "output_type": "display_data"
    }
   ],
   "source": [
    "plt.plot(sdf.loc[51000:55000, 'fMRI Trigger - CBLCFMA - Current Feedba'])\n",
    "subset = sdf.loc[51000:55000, 'fMRI Trigger - CBLCFMA - Current Feedba']\n",
    "subset[subset> 40]"
   ]
  },
  {
   "cell_type": "markdown",
   "metadata": {},
   "source": [
    "# Note that TTL transisions are not as clear\n",
    "* we notice a blue spike in the last run\n",
    "* The last run is not a pain run\n",
    "* However, we may have gotten that spike because we turned the TSA2 off during that last run\n",
    "* Let's remove that odd blue spike. "
   ]
  },
  {
   "cell_type": "code",
   "execution_count": 23,
   "metadata": {},
   "outputs": [
    {
     "data": {
      "text/plain": [
       "[<matplotlib.lines.Line2D at 0x15e481430>]"
      ]
     },
     "execution_count": 23,
     "metadata": {},
     "output_type": "execute_result"
    },
    {
     "data": {
      "image/png": "[encoded data removed]",
      "text/plain": [
       "<Figure size 1080x648 with 1 Axes>"
      ]
     },
     "metadata": {
      "needs_background": "light"
     },
     "output_type": "display_data"
    }
   ],
   "source": [
    "plt.plot(spacetop_data['TSA2 TTL - CBLCFMA - Current Feedback M'].rolling(window=2000).mean())\n",
    "spacetop_data['TTL'] = spacetop_data['TSA2 TTL - CBLCFMA - Current Feedback M'].rolling(window=2000).mean()\n",
    "spacetop_data.loc[spacetop_data['TTL'] > 5, 'ttl_aniso'] = 5\n",
    "spacetop_data.loc[spacetop_data['TTL'] <= 5, 'ttl_aniso'] = 0\n",
    "plt.plot(spacetop_data['ttl_aniso'])"
   ]
  },
  {
   "cell_type": "markdown",
   "metadata": {},
   "source": [
    "* Now we're removed the odd blue spike, reflected in the green bars\n",
    "* We did this by identifying a rollowing window and binarizing signals based on a threshold of 5 (which is the recorded signal for a TTL from Medoc)"
   ]
  },
  {
   "cell_type": "code",
   "execution_count": 24,
   "metadata": {},
   "outputs": [
    {
     "data": {
      "text/plain": [
       "Text(0.5, 1.0, 'identify transitions')"
      ]
     },
     "execution_count": 24,
     "metadata": {},
     "output_type": "execute_result"
    },
    {
     "data": {
      "image/png": "[encoded data removed]",
      "text/plain": [
       "<Figure size 1080x648 with 1 Axes>"
      ]
     },
     "metadata": {
      "needs_background": "light"
     },
     "output_type": "display_data"
    }
   ],
   "source": [
    "plt.plot(spacetop_data['TTL'])\n",
    "plt.plot(spacetop_data['mr_aniso'])\n",
    "plt.plot(spacetop_data['ttl_aniso'])\n",
    "plt.title(\"identify transitions\")\n",
    "# Green does not have that spike anymore"
   ]
  },
  {
   "cell_type": "code",
   "execution_count": 25,
   "metadata": {},
   "outputs": [
    {
     "name": "stdout",
     "output_type": "stream",
     "text": [
      "Int64Index([50484, 899340, 1750768, 2593712, 3425265, 4279821], dtype='int64')\n",
      "Int64Index([852720, 1701576, 2553004, 3395949, 4227501, 5082057], dtype='int64')\n"
     ]
    }
   ],
   "source": [
    "print(start_df)\n",
    "print(stop_df)"
   ]
  },
  {
   "cell_type": "code",
   "execution_count": 26,
   "metadata": {},
   "outputs": [
    {
     "data": {
      "text/plain": [
       "[<matplotlib.lines.Line2D at 0x15e552910>]"
      ]
     },
     "execution_count": 26,
     "metadata": {},
     "output_type": "execute_result"
    },
    {
     "data": {
      "image/png": "[encoded data removed]",
      "text/plain": [
       "<Figure size 1080x648 with 1 Axes>"
      ]
     },
     "metadata": {
      "needs_background": "light"
     },
     "output_type": "display_data"
    }
   ],
   "source": [
    "for r in range(len(start_df)):\n",
    "    spacetop_data.at[start_df[r]:stop_df[r], 'run_num'] = r+1\n",
    "plt.plot(spacetop_data.run_num)"
   ]
  },
  {
   "cell_type": "code",
   "execution_count": 109,
   "metadata": {},
   "outputs": [
    {
     "data": {
      "text/plain": [
       "401.118"
      ]
     },
     "execution_count": 109,
     "metadata": {},
     "output_type": "execute_result"
    }
   ],
   "source": [
    "(852720-50484)/2000"
   ]
  },
  {
   "cell_type": "code",
   "execution_count": 27,
   "metadata": {},
   "outputs": [
    {
     "name": "stdout",
     "output_type": "stream",
     "text": [
      "0 1 401.1185\n",
      "1 4 401.1185\n"
     ]
    }
   ],
   "source": [
    "run_len = len(df_transition)\n",
    "# if run_len == 6:\n",
    "for i, run_num in enumerate(acq_runs_with_ttl):\n",
    "    run_subset = spacetop_data.loc[spacetop_data['run_num'] == run_num+1]\n",
    "    if 380 < len(run_subset)/2000 < 410:\n",
    "        print(i, run_num, len(run_subset)/2000 )"
   ]
  },
  {
   "cell_type": "code",
   "execution_count": 1,
   "metadata": {},
   "outputs": [
    {
     "ename": "NameError",
     "evalue": "name 'run_subset' is not defined",
     "output_type": "error",
     "traceback": [
      "\u001b[0;31m---------------------------------------------------------------------------\u001b[0m",
      "\u001b[0;31mNameError\u001b[0m                                 Traceback (most recent call last)",
      "\u001b[0;32m<ipython-input-1-b02f4316481e>\u001b[0m in \u001b[0;36m<module>\u001b[0;34m\u001b[0m\n\u001b[0;32m----> 1\u001b[0;31m \u001b[0mlen\u001b[0m\u001b[0;34m(\u001b[0m\u001b[0mrun_subset\u001b[0m\u001b[0;34m)\u001b[0m\u001b[0;34m/\u001b[0m\u001b[0;36m2000\u001b[0m\u001b[0;34m\u001b[0m\u001b[0;34m\u001b[0m\u001b[0m\n\u001b[0m",
      "\u001b[0;31mNameError\u001b[0m: name 'run_subset' is not defined"
     ]
    }
   ],
   "source": [
    "len(run_subset)/2000"
   ]
  },
  {
   "cell_type": "code",
   "execution_count": 154,
   "metadata": {},
   "outputs": [
    {
     "data": {
      "text/plain": [
       "401.1185"
      ]
     },
     "execution_count": 154,
     "metadata": {},
     "output_type": "execute_result"
    }
   ],
   "source": [
    "run_subset = spacetop_data.loc[spacetop_data['run_num'] == run_num+1]\n",
    "len(run_subset)/2000"
   ]
  },
  {
   "cell_type": "code",
   "execution_count": 145,
   "metadata": {},
   "outputs": [
    {
     "name": "stdout",
     "output_type": "stream",
     "text": [
      "0 1\n",
      "run-02\n",
      "1 4\n",
      "run-05\n"
     ]
    }
   ],
   "source": [
    "\n",
    "# %%    # FOR LOOP START _________________\n",
    "run_len = len(df_transition)\n",
    "if run_len == 6:\n",
    "    for i, run_num in enumerate(runs_with_ttl):\n",
    "        print(i, run_num)\n",
    "\n",
    "        run = f\"run-{run_num + 1:02d}\"\n",
    "        print(run)\n",
    "        run_subset = spacetop_data.loc[spacetop_data['run_num'] == run_num+1]\n",
    "\n",
    "        # run_subset = spacetop_data[df_transition.start_df[run_num]: df_transition.stop_df[run_num]]\n",
    "        run_df = run_subset.reset_index()\n",
    "        # identify events :: expect and actual _________________\n",
    "        start_expect = run_df[run_df['expect'] > run_df[ 'expect'].shift(1)]\n",
    "        start_actual = run_df[run_df['actual'] > run_df[ 'actual'].shift(1)]\n",
    "        stop_actual= run_df[run_df['actual'] < run_df[ 'actual'].shift(1)]\n",
    "\n",
    "        # identify events :: stimulli _________________\n",
    "        start_stim = run_df[run_df['stimuli'] > run_df[ 'stimuli'].shift(1)]\n",
    "        stop_stim= run_df[run_df['stimuli'] < run_df[ 'stimuli'].shift(1)]\n",
    "        events = nk.events_create(event_onsets=list(start_stim.index), \n",
    "        event_durations = list((stop_stim.index-start_stim.index)/spacetop_samplingrate))\n",
    "\n",
    "        # transform events :: transform to onset _________________\n",
    "        expect_start = start_expect.index/spacetop_samplingrate\n",
    "        actual_end = stop_actual.index/spacetop_samplingrate\n",
    "        stim_start = start_stim.index/spacetop_samplingrate\n",
    "        stim_end = stop_stim.index/spacetop_samplingrate\n",
    "        stim_onset = events['onset']/spacetop_samplingrate\n",
    "\n",
    "        # build pandas dataframe _________________\n",
    "        df_onset = pd.DataFrame({\n",
    "            'expect_start': expect_start, \n",
    "            'actual_end': actual_end,\n",
    "            'stim_start': np.nan,\n",
    "            'stim_end':np.nan\n",
    "        })\n",
    "\n",
    "        df_stim = pd.DataFrame({\n",
    "            'stim_start': stim_start, \n",
    "            'stim_end': stim_end\n",
    "            })\n",
    "\n",
    "        final_df = pd.DataFrame()"
   ]
  },
  {
   "cell_type": "code",
   "execution_count": 78,
   "metadata": {},
   "outputs": [
    {
     "name": "stdout",
     "output_type": "stream",
     "text": [
      "/Volumes/spacetop\n",
      "/Volumes/spacetop/biopac/dartmouth/b03_extract_ttl\n"
     ]
    },
    {
     "ename": "IndexError",
     "evalue": "list index out of range",
     "output_type": "error",
     "traceback": [
      "\u001b[0;31m---------------------------------------------------------------------------\u001b[0m",
      "\u001b[0;31mIndexError\u001b[0m                                Traceback (most recent call last)",
      "\u001b[0;32m<ipython-input-78-de387e99a255>\u001b[0m in \u001b[0;36m<module>\u001b[0;34m\u001b[0m\n\u001b[1;32m     41\u001b[0m \u001b[0;32mfor\u001b[0m \u001b[0macq\u001b[0m \u001b[0;32min\u001b[0m \u001b[0msorted\u001b[0m\u001b[0;34m(\u001b[0m\u001b[0macq_list\u001b[0m\u001b[0;34m[\u001b[0m\u001b[0;36m1\u001b[0m\u001b[0;34m]\u001b[0m\u001b[0;34m)\u001b[0m\u001b[0;34m:\u001b[0m\u001b[0;34m\u001b[0m\u001b[0;34m\u001b[0m\u001b[0m\n\u001b[1;32m     42\u001b[0m     \u001b[0mfilename\u001b[0m  \u001b[0;34m=\u001b[0m \u001b[0mos\u001b[0m\u001b[0;34m.\u001b[0m\u001b[0mpath\u001b[0m\u001b[0;34m.\u001b[0m\u001b[0mbasename\u001b[0m\u001b[0;34m(\u001b[0m\u001b[0macq\u001b[0m\u001b[0;34m)\u001b[0m\u001b[0;34m\u001b[0m\u001b[0;34m\u001b[0m\u001b[0m\n\u001b[0;32m---> 43\u001b[0;31m     \u001b[0msub\u001b[0m \u001b[0;34m=\u001b[0m \u001b[0;34m[\u001b[0m\u001b[0mmatch\u001b[0m \u001b[0;32mfor\u001b[0m \u001b[0mmatch\u001b[0m \u001b[0;32min\u001b[0m \u001b[0mfilename\u001b[0m\u001b[0;34m.\u001b[0m\u001b[0msplit\u001b[0m\u001b[0;34m(\u001b[0m\u001b[0;34m'_'\u001b[0m\u001b[0;34m)\u001b[0m \u001b[0;32mif\u001b[0m \u001b[0;34m\"sub\"\u001b[0m \u001b[0;32min\u001b[0m \u001b[0mmatch\u001b[0m\u001b[0;34m]\u001b[0m\u001b[0;34m[\u001b[0m\u001b[0;36m0\u001b[0m\u001b[0;34m]\u001b[0m\u001b[0;34m\u001b[0m\u001b[0;34m\u001b[0m\u001b[0m\n\u001b[0m\u001b[1;32m     44\u001b[0m     \u001b[0mses\u001b[0m \u001b[0;34m=\u001b[0m \u001b[0;34m[\u001b[0m\u001b[0mmatch\u001b[0m \u001b[0;32mfor\u001b[0m \u001b[0mmatch\u001b[0m \u001b[0;32min\u001b[0m \u001b[0mfilename\u001b[0m\u001b[0;34m.\u001b[0m\u001b[0msplit\u001b[0m\u001b[0;34m(\u001b[0m\u001b[0;34m'_'\u001b[0m\u001b[0;34m)\u001b[0m \u001b[0;32mif\u001b[0m \u001b[0;34m\"ses\"\u001b[0m \u001b[0;32min\u001b[0m \u001b[0mmatch\u001b[0m\u001b[0;34m]\u001b[0m\u001b[0;34m[\u001b[0m\u001b[0;36m0\u001b[0m\u001b[0;34m]\u001b[0m \u001b[0;31m# 'ses-03'\u001b[0m\u001b[0;34m\u001b[0m\u001b[0;34m\u001b[0m\u001b[0m\n\u001b[1;32m     45\u001b[0m     \u001b[0mtask\u001b[0m \u001b[0;34m=\u001b[0m \u001b[0;34m[\u001b[0m\u001b[0mmatch\u001b[0m \u001b[0;32mfor\u001b[0m \u001b[0mmatch\u001b[0m \u001b[0;32min\u001b[0m \u001b[0mfilename\u001b[0m\u001b[0;34m.\u001b[0m\u001b[0msplit\u001b[0m\u001b[0;34m(\u001b[0m\u001b[0;34m'_'\u001b[0m\u001b[0;34m)\u001b[0m \u001b[0;32mif\u001b[0m \u001b[0;34m\"task\"\u001b[0m \u001b[0;32min\u001b[0m \u001b[0mmatch\u001b[0m\u001b[0;34m]\u001b[0m\u001b[0;34m[\u001b[0m\u001b[0;36m0\u001b[0m\u001b[0;34m]\u001b[0m\u001b[0;34m\u001b[0m\u001b[0;34m\u001b[0m\u001b[0m\n",
      "\u001b[0;31mIndexError\u001b[0m: list index out of range"
     ]
    }
   ],
   "source": [
    "# split runs with \"trigger event\" e.g. binarize the values and identify start stop indices\n",
    "# ttl onsets\n",
    "#   convert each event into trial number\n",
    "# do this based on two events: expect and actual\n",
    "\n",
    "# TODO:\n",
    "# * identify BIDS scheme for physio data \n",
    "# * flag files without ANISO\n",
    "# * flag files with less than 5 runs\n",
    "# ** for those runs, we need to manually assign run numbers (biopac will collect back to back)\n",
    "# * change main_dir directory when running on discovery\n",
    "# TODO: create metadata, of folders and how columns were calculated \n",
    "# * remove unnecessary print statements\n",
    "# \n",
    "\n",
    "# %% libraries ________________________\n",
    "import neurokit2 as nk\n",
    "import pandas as pd\n",
    "import numpy as np\n",
    "import seaborn as sns\n",
    "import matplotlib.pyplot as plt\n",
    "import itertools\n",
    "import os, glob, shutil, datetime\n",
    "from pathlib import Path\n",
    "import json\n",
    "\n",
    "# %% directories ___________________________________\n",
    "# current_dir = os.getcwd()\n",
    "# main_dir = Path(current_dir).parents[1]\n",
    "\n",
    "# %% temporary\n",
    "main_dir = '/Volumes/spacetop'\n",
    "print(main_dir)\n",
    "save_dir = os.path.join(main_dir, 'biopac', 'dartmouth', 'b03_extract_ttl')\n",
    "print(save_dir)\n",
    "# %% filename __________________________\n",
    "# filename ='/Users/h/Dropbox/projects_dropbox/spacetop_biopac/data/sub-0026/SOCIAL_spacetop_sub-0026_ses-01_task-social_ANISO.acq'\n",
    "acq_list = glob.glob(os.path.join(main_dir, 'biopac', 'dartmouth', 'b02_sorted', 'sub-' + ('[0-9]' * 4), '*', '*task-social*_physio.acq'), recursive = True)\n",
    "flaglist = []\n",
    "# %%\n",
    "for acq in sorted(acq_list[1]):\n",
    "    filename  = os.path.basename(acq)\n",
    "    sub = [match for match in filename.split('_') if \"sub\" in match][0]\n",
    "    ses = [match for match in filename.split('_') if \"ses\" in match][0] # 'ses-03'\n",
    "    task = [match for match in filename.split('_') if \"task\" in match][0]\n",
    "    try: \n",
    "        spacetop_data, spacetop_samplingrate = nk.read_acqknowledge(acq)\n",
    "\n",
    "        # ____________________________________ identify run transitions ____________________________________\n",
    "        # %% EV trigger :: identify transitions based on \"fMRI Trigger - CBLCFMA - Current Feedba\" ev \n",
    "        spacetop_data['mr_aniso'] = spacetop_data['fMRI Trigger - CBLCFMA - Current Feedba'].rolling(window=460*2).mean()\n",
    "        mid_val = (np.max(spacetop_data['mr_aniso']) - np.min(spacetop_data['mr_aniso']))/2\n",
    "        spacetop_data.loc[spacetop_data['mr_aniso'] > mid_val, 'mr_aniso'] = 5\n",
    "        spacetop_data.loc[spacetop_data['mr_aniso'] <= mid_val, 'mr_aniso'] = 0\n",
    "        start_df = spacetop_data[spacetop_data['mr_aniso'] > spacetop_data['mr_aniso'].shift(1)].index\n",
    "        stop_df = spacetop_data[spacetop_data['mr_aniso'] < spacetop_data['mr_aniso'].shift(1)].index\n",
    "\n",
    "        # %% EV TTL :: identify ttl events based on TTL column\n",
    "        spacetop_data['TTL'] = spacetop_data['TSA2 TTL - CBLCFMA - Current Feedback M'].rolling(window=2000).mean()\n",
    "        spacetop_data.loc[spacetop_data['TTL'] > 5, 'ttl_aniso'] = 5\n",
    "        spacetop_data.loc[spacetop_data['TTL'] <= 5, 'ttl_aniso'] = 0\n",
    "\n",
    "        # %% EV stimuli :: \n",
    "        mid_val = (np.max(spacetop_data['administer']) - np.min(spacetop_data['administer']))/2\n",
    "        spacetop_data.loc[spacetop_data['administer'] > mid_val, 'stimuli'] = 5\n",
    "        spacetop_data.loc[spacetop_data['administer'] <= mid_val, 'stimuli'] = 0\n",
    "\n",
    "        df_transition = pd.DataFrame({\n",
    "                        'start_df': start_df, \n",
    "                        'stop_df': stop_df\n",
    "                        })\n",
    "\n",
    "        # identify runs with TTL signal\n",
    "        ttl_bool = [];runs_with_ttl = []\n",
    "        for r in range(len(start_df)):\n",
    "            bool_val = np.unique(spacetop_data.iloc[df_transition.start_df[r]:df_transition.stop_df[r],spacetop_data.columns.get_loc('ttl_aniso')]).any()\n",
    "            ttl_bool.append(bool_val)\n",
    "\n",
    "        for r in range(len(start_df)):\n",
    "            spacetop_data.at[start_df[r]:stop_df[r], 'run_num'] = r+1\n",
    "        runs_with_ttl = [i for i, x in enumerate(ttl_bool) if x]\n",
    "        \n",
    "        # TODO: if each run,greater than 395 s\n",
    "\n",
    "        # ____________________________________ identify TTL signals and trials ____________________________________\n",
    "        # run_len = len(df_transition)\n",
    "        # if run_len == 6:\n",
    "        if runs_with_ttl:\n",
    "            print(sub, ses, task)\n",
    "            print(f\"runs with ttl: {runs_with_ttl}\")\n",
    "            for i, run_num in enumerate(runs_with_ttl):\n",
    "                run_subset = spacetop_data.loc[spacetop_data['run_num'] == run_num+1]\n",
    "                print(len(run_subset)/2000)\n",
    "                if 300 < len(run_subset)/2000 < 450: # check if run length is around 389 s\n",
    "                    print(i, run_num)\n",
    "                    run = f\"run-{run_num + 1:02d}\"\n",
    "                    print(run)\n",
    "                    run_df = run_subset.reset_index()\n",
    "                    # identify events :: expect and actual _________________\n",
    "                    start_expect = run_df[run_df['expect'] > run_df[ 'expect'].shift(1)]\n",
    "                    start_actual = run_df[run_df['actual'] > run_df[ 'actual'].shift(1)]\n",
    "                    stop_actual= run_df[run_df['actual'] < run_df[ 'actual'].shift(1)]\n",
    "                    # identify events :: stimulli _________________\n",
    "                    start_stim = run_df[run_df['stimuli'] > run_df[ 'stimuli'].shift(1)]\n",
    "                    stop_stim= run_df[run_df['stimuli'] < run_df[ 'stimuli'].shift(1)]\n",
    "                    events = nk.events_create(event_onsets=list(start_stim.index), \n",
    "                    event_durations = list((stop_stim.index-start_stim.index)/spacetop_samplingrate))\n",
    "                    # transform events :: transform to onset _________________\n",
    "                    expect_start = start_expect.index/spacetop_samplingrate\n",
    "                    actual_end = stop_actual.index/spacetop_samplingrate\n",
    "                    stim_start = start_stim.index/spacetop_samplingrate\n",
    "                    stim_end = stop_stim.index/spacetop_samplingrate\n",
    "                    stim_onset = events['onset']/spacetop_samplingrate\n",
    "                    # build pandas dataframe _________________\n",
    "                    df_onset = pd.DataFrame({\n",
    "                        'expect_start': expect_start, \n",
    "                        'actual_end': actual_end,\n",
    "                        'stim_start': np.nan,\n",
    "                        'stim_end':np.nan\n",
    "                    })\n",
    "                    df_stim = pd.DataFrame({\n",
    "                        'stim_start': stim_start, \n",
    "                        'stim_end': stim_end\n",
    "                        })\n",
    "\n",
    "                    final_df = pd.DataFrame()\n",
    "                    \n",
    "                    # events :: stimuli\n",
    "                    # for loop, identify the order of \"stimulus events\" \n",
    "                    # based on information of \"expect, actual\" events, we will assign a trial number to stimulus events\n",
    "                    # RESOURCE: https://stackoverflow.com/questions/62300474/filter-all-rows-in-a-pandas-dataframe-where-a-given-value-is-between-two-columnv\n",
    "                    for i in range(len(df_stim)):\n",
    "                        idx = pd.IntervalIndex.from_arrays(\n",
    "                            df_onset['expect_start'], df_onset['actual_end'])\n",
    "                        start_val = df_stim.iloc[i][df_stim.columns.get_loc('stim_start')]\n",
    "                        interval_idx = df_onset[idx.contains(start_val)].index[0]\n",
    "                        df_onset.iloc[interval_idx, df_onset.columns.get_loc('stim_start')] = start_val\n",
    "                        end_val = df_stim.iloc[i][df_stim.columns.get_loc('stim_end')]\n",
    "                        interval_idx = df_onset[idx.contains(end_val)].index[0]\n",
    "                        df_onset.iloc[interval_idx, df_onset.columns.get_loc('stim_end')] = end_val\n",
    "                        print(f\"this is the {i}-th iteration. stim value is {start_val}, and is in between index {interval_idx}\")\n",
    "                    # identify events :: TTL _________________\n",
    "                    # calculate TTL onsets\n",
    "                    start_ttl = run_df[run_df['TTL'] > run_df[ 'TTL'].shift(1)]\n",
    "                    stop_ttl = run_df[run_df['TTL'] < run_df[ 'TTL'].shift(1)]\n",
    "                    ttl_onsets =   list(start_ttl.index + (stop_ttl.index-start_ttl.index)/2)/spacetop_samplingrate\n",
    "                    print(f\"ttl onsets: {ttl_onsets}, length of ttl onset is : {len(ttl_onsets)}\")\n",
    "                    # define empty TTL data frame\n",
    "                    df_ttl = pd.DataFrame(np.nan, \n",
    "                                        index=np.arange(len(df_onset)),\n",
    "                                        columns= ['ttl_1', 'ttl_2','ttl_3', 'ttl_4'])\n",
    "                    # identify which set of TTLs fall between expect and actual \n",
    "                    pad = 1 # seconds. you may increase the value to have a bigger event search interval\n",
    "                    df_onset['expect_start_interval'] = df_onset['expect_start']-pad\n",
    "                    df_onset['actual_end_interval'] = df_onset['actual_end']+pad\n",
    "                    idx = pd.IntervalIndex.from_arrays(\n",
    "                                df_onset['expect_start_interval'], df_onset['actual_end_interval'])\n",
    "                    for i in range(len(ttl_onsets)):\n",
    "                        val = ttl_onsets[i]\n",
    "                        print(f\"{i}-th value: {val}\")\n",
    "                        empty_cols = []\n",
    "                        interval_idx = df_onset[idx.contains(val)].index[0]\n",
    "                        print(f\"\\t\\t* interval index: {interval_idx}\")\n",
    "                        mask = df_ttl.loc[[interval_idx]].isnull()\n",
    "                        empty_cols = list(itertools.compress(np.array(df_ttl.columns.to_list()), mask.values[0]))\n",
    "                        print(f\"\\t\\t* empty columns: {empty_cols}\")\n",
    "                        df_ttl.loc[df_ttl.index[interval_idx], str(empty_cols[0])] = val\n",
    "                        print(f\"\\t\\t* this is the row where the value -- {val} -- falls. on the {interval_idx}-th row\")\n",
    "                    # merge :: merge df_onset and df_ttl -> final output: final_df\n",
    "                    final_df = pd.merge(df_onset, df_ttl, left_index=True, right_index=True)\n",
    "                    final_df['ttl_r1'] = final_df['ttl_1'] - final_df['stim_start']\n",
    "                    final_df['ttl_r2'] = final_df['ttl_2'] - final_df['stim_start']\n",
    "                    final_df['ttl_r3'] = final_df['ttl_3'] - final_df['stim_start']\n",
    "                    final_df['ttl_r4'] = final_df['ttl_4'] - final_df['stim_start']\n",
    "                    # save output as\n",
    "                    save_filename = f\"{sub}_{ses}_{task}_{run}_physio-ttl.csv\"\n",
    "                    new_dir = os.path.join(save_dir, task, sub, ses)\n",
    "                    print(new_dir)\n",
    "                    Path(new_dir).mkdir( parents=True, exist_ok=True )\n",
    "                    final_df.reset_index(inplace=True)\n",
    "                    final_df = final_df.rename(columns = {'index':'trial_num'})\n",
    "                    final_df.to_csv(os.path.join(new_dir, save_filename), index=False)\n",
    "                else:\n",
    "                    flaglist.append('\\nrun length is shorter than 380s or longer than 410s')\n",
    "                    flaglist.append(acq_list)\n",
    "        else:\n",
    "            print(\"no ttl runs\")\n",
    "    except:\n",
    "        flaglist.append('\\nfailed')\n",
    "        flaglist.append(acq_list)\n",
    "\n",
    "# txt_filename = os.path.join(save_dir, f'biopac_flaglist_{datetime.date.today().isoformat()}.txt')\n",
    "# with open(txt_filename, 'w') as f:\n",
    "#     f.write(json.dumps(flaglist))\n",
    "# # txt_filename = os.path.join(/scripts/flags', f'biopac_flaglist_{datetime.date.today().isoformat()}.txt')\n",
    "# # with open(txt_filename, 'w') as f:\n",
    "# #     f.write(json.dumps(flaglist))\n",
    "\n"
   ]
  },
  {
   "cell_type": "code",
   "execution_count": 79,
   "metadata": {},
   "outputs": [],
   "source": [
    "acq = acq_list[1]"
   ]
  },
  {
   "cell_type": "code",
   "execution_count": 80,
   "metadata": {},
   "outputs": [
    {
     "data": {
      "text/plain": [
       "'/Volumes/spacetop/biopac/dartmouth/b02_sorted/sub-0050/ses-03/sub-0050_ses-03_task-social_recording-ppg-eda_physio.acq'"
      ]
     },
     "execution_count": 80,
     "metadata": {},
     "output_type": "execute_result"
    }
   ],
   "source": [
    "acq"
   ]
  },
  {
   "cell_type": "markdown",
   "metadata": {},
   "source": [
    "one iteration"
   ]
  },
  {
   "cell_type": "code",
   "execution_count": 123,
   "metadata": {},
   "outputs": [
    {
     "name": "stdout",
     "output_type": "stream",
     "text": [
      "sub-0050 ses-03 task-social\n",
      "runs with ttl: [2, 3]\n",
      "401.1185\n",
      "0 2\n",
      "run-03\n",
      "this is the 0-th iteration. stim value is 31.0075, and is in between index 0\n",
      "this is the 1-th iteration. stim value is 60.8845, and is in between index 1\n",
      "this is the 2-th iteration. stim value is 90.986, and is in between index 2\n",
      "this is the 3-th iteration. stim value is 131.2775, and is in between index 3\n",
      "this is the 4-th iteration. stim value is 169.3735, and is in between index 4\n",
      "this is the 5-th iteration. stim value is 194.0745, and is in between index 5\n",
      "this is the 6-th iteration. stim value is 223.489, and is in between index 6\n",
      "this is the 7-th iteration. stim value is 252.482, and is in between index 7\n",
      "this is the 8-th iteration. stim value is 280.211, and is in between index 8\n",
      "this is the 9-th iteration. stim value is 312.1185, and is in between index 9\n",
      "this is the 10-th iteration. stim value is 350.698, and is in between index 10\n",
      "this is the 11-th iteration. stim value is 385.879, and is in between index 11\n",
      "0-th value: 31.5315\n",
      "\t\t* interval index: 0\n",
      "\t\t* empty columns: ['ttl_1', 'ttl_2', 'ttl_3', 'ttl_4']\n",
      "\t\t* this is the row where the value -- 31.5315 -- falls. on the 0-th row\n",
      "1-th value: 34.9155\n",
      "\t\t* interval index: 0\n",
      "\t\t* empty columns: ['ttl_2', 'ttl_3', 'ttl_4']\n",
      "\t\t* this is the row where the value -- 34.9155 -- falls. on the 0-th row\n",
      "2-th value: 39.91575\n",
      "\t\t* interval index: 0\n",
      "\t\t* empty columns: ['ttl_3', 'ttl_4']\n",
      "\t\t* this is the row where the value -- 39.91575 -- falls. on the 0-th row\n",
      "3-th value: 42.95\n",
      "\t\t* interval index: 0\n",
      "\t\t* empty columns: ['ttl_4']\n",
      "\t\t* this is the row where the value -- 42.95 -- falls. on the 0-th row\n",
      "4-th value: 61.4175\n",
      "\t\t* interval index: 1\n",
      "\t\t* empty columns: ['ttl_1', 'ttl_2', 'ttl_3', 'ttl_4']\n",
      "\t\t* this is the row where the value -- 61.4175 -- falls. on the 1-th row\n",
      "5-th value: 64.99325\n",
      "\t\t* interval index: 1\n",
      "\t\t* empty columns: ['ttl_2', 'ttl_3', 'ttl_4']\n",
      "\t\t* this is the row where the value -- 64.99325 -- falls. on the 1-th row\n",
      "6-th value: 69.993\n",
      "\t\t* interval index: 1\n",
      "\t\t* empty columns: ['ttl_3', 'ttl_4']\n",
      "\t\t* this is the row where the value -- 69.993 -- falls. on the 1-th row\n",
      "7-th value: 73.24625\n",
      "\t\t* interval index: 1\n",
      "\t\t* empty columns: ['ttl_4']\n",
      "\t\t* this is the row where the value -- 73.24625 -- falls. on the 1-th row\n",
      "8-th value: 91.525\n",
      "\t\t* interval index: 2\n",
      "\t\t* empty columns: ['ttl_1', 'ttl_2', 'ttl_3', 'ttl_4']\n",
      "\t\t* this is the row where the value -- 91.525 -- falls. on the 2-th row\n",
      "9-th value: 94.638\n",
      "\t\t* interval index: 2\n",
      "\t\t* empty columns: ['ttl_2', 'ttl_3', 'ttl_4']\n",
      "\t\t* this is the row where the value -- 94.638 -- falls. on the 2-th row\n",
      "10-th value: 99.63825\n",
      "\t\t* interval index: 2\n",
      "\t\t* empty columns: ['ttl_3', 'ttl_4']\n",
      "\t\t* this is the row where the value -- 99.63825 -- falls. on the 2-th row\n",
      "11-th value: 102.5575\n",
      "\t\t* interval index: 2\n",
      "\t\t* empty columns: ['ttl_4']\n",
      "\t\t* this is the row where the value -- 102.5575 -- falls. on the 2-th row\n",
      "12-th value: 131.8155\n",
      "\t\t* interval index: 3\n",
      "\t\t* empty columns: ['ttl_1', 'ttl_2', 'ttl_3', 'ttl_4']\n",
      "\t\t* this is the row where the value -- 131.8155 -- falls. on the 3-th row\n",
      "13-th value: 135.185\n",
      "\t\t* interval index: 3\n",
      "\t\t* empty columns: ['ttl_2', 'ttl_3', 'ttl_4']\n",
      "\t\t* this is the row where the value -- 135.185 -- falls. on the 3-th row\n",
      "14-th value: 140.18625\n",
      "\t\t* interval index: 3\n",
      "\t\t* empty columns: ['ttl_3', 'ttl_4']\n",
      "\t\t* this is the row where the value -- 140.18625 -- falls. on the 3-th row\n",
      "15-th value: 143.26925\n",
      "\t\t* interval index: 3\n",
      "\t\t* empty columns: ['ttl_4']\n",
      "\t\t* this is the row where the value -- 143.26925 -- falls. on the 3-th row\n",
      "16-th value: 169.9175\n",
      "\t\t* interval index: 4\n",
      "\t\t* empty columns: ['ttl_1', 'ttl_2', 'ttl_3', 'ttl_4']\n",
      "\t\t* this is the row where the value -- 169.9175 -- falls. on the 4-th row\n",
      "17-th value: 173.49275\n",
      "\t\t* interval index: 4\n",
      "\t\t* empty columns: ['ttl_2', 'ttl_3', 'ttl_4']\n",
      "\t\t* this is the row where the value -- 173.49275 -- falls. on the 4-th row\n",
      "18-th value: 178.493\n",
      "\t\t* interval index: 4\n",
      "\t\t* empty columns: ['ttl_3', 'ttl_4']\n",
      "\t\t* this is the row where the value -- 178.493 -- falls. on the 4-th row\n",
      "19-th value: 181.7445\n",
      "\t\t* interval index: 4\n",
      "\t\t* empty columns: ['ttl_4']\n",
      "\t\t* this is the row where the value -- 181.7445 -- falls. on the 4-th row\n",
      "20-th value: 194.6185\n",
      "\t\t* interval index: 5\n",
      "\t\t* empty columns: ['ttl_1', 'ttl_2', 'ttl_3', 'ttl_4']\n",
      "\t\t* this is the row where the value -- 194.6185 -- falls. on the 5-th row\n",
      "21-th value: 198.17375\n",
      "\t\t* interval index: 5\n",
      "\t\t* empty columns: ['ttl_2', 'ttl_3', 'ttl_4']\n",
      "\t\t* this is the row where the value -- 198.17375 -- falls. on the 5-th row\n",
      "22-th value: 203.174\n",
      "\t\t* interval index: 5\n",
      "\t\t* empty columns: ['ttl_3', 'ttl_4']\n",
      "\t\t* this is the row where the value -- 203.174 -- falls. on the 5-th row\n",
      "23-th value: 206.40675\n",
      "\t\t* interval index: 5\n",
      "\t\t* empty columns: ['ttl_4']\n",
      "\t\t* this is the row where the value -- 206.40675 -- falls. on the 5-th row\n",
      "24-th value: 224.0195\n",
      "\t\t* interval index: 6\n",
      "\t\t* empty columns: ['ttl_1', 'ttl_2', 'ttl_3', 'ttl_4']\n",
      "\t\t* this is the row where the value -- 224.0195 -- falls. on the 6-th row\n",
      "25-th value: 227.13525\n",
      "\t\t* interval index: 6\n",
      "\t\t* empty columns: ['ttl_2', 'ttl_3', 'ttl_4']\n",
      "\t\t* this is the row where the value -- 227.13525 -- falls. on the 6-th row\n",
      "26-th value: 232.134\n",
      "\t\t* interval index: 6\n",
      "\t\t* empty columns: ['ttl_3', 'ttl_4']\n",
      "\t\t* this is the row where the value -- 232.134 -- falls. on the 6-th row\n",
      "27-th value: 235.052\n",
      "\t\t* interval index: 6\n",
      "\t\t* empty columns: ['ttl_4']\n",
      "\t\t* this is the row where the value -- 235.052 -- falls. on the 6-th row\n",
      "28-th value: 253.01675\n",
      "\t\t* interval index: 7\n",
      "\t\t* empty columns: ['ttl_1', 'ttl_2', 'ttl_3', 'ttl_4']\n",
      "\t\t* this is the row where the value -- 253.01675 -- falls. on the 7-th row\n",
      "29-th value: 256.56\n",
      "\t\t* interval index: 7\n",
      "\t\t* empty columns: ['ttl_2', 'ttl_3', 'ttl_4']\n",
      "\t\t* this is the row where the value -- 256.56 -- falls. on the 7-th row\n",
      "30-th value: 261.56175\n",
      "\t\t* interval index: 7\n",
      "\t\t* empty columns: ['ttl_3', 'ttl_4']\n",
      "\t\t* this is the row where the value -- 261.56175 -- falls. on the 7-th row\n",
      "31-th value: 264.82875\n",
      "\t\t* interval index: 7\n",
      "\t\t* empty columns: ['ttl_4']\n",
      "\t\t* this is the row where the value -- 264.82875 -- falls. on the 7-th row\n",
      "32-th value: 280.743\n",
      "\t\t* interval index: 8\n",
      "\t\t* empty columns: ['ttl_1', 'ttl_2', 'ttl_3', 'ttl_4']\n",
      "\t\t* this is the row where the value -- 280.743 -- falls. on the 8-th row\n",
      "33-th value: 283.84125\n",
      "\t\t* interval index: 8\n",
      "\t\t* empty columns: ['ttl_2', 'ttl_3', 'ttl_4']\n",
      "\t\t* this is the row where the value -- 283.84125 -- falls. on the 8-th row\n",
      "34-th value: 288.8415\n",
      "\t\t* interval index: 8\n",
      "\t\t* empty columns: ['ttl_3', 'ttl_4']\n",
      "\t\t* this is the row where the value -- 288.8415 -- falls. on the 8-th row\n",
      "35-th value: 291.79475\n",
      "\t\t* interval index: 8\n",
      "\t\t* empty columns: ['ttl_4']\n",
      "\t\t* this is the row where the value -- 291.79475 -- falls. on the 8-th row\n",
      "36-th value: 312.6485\n",
      "\t\t* interval index: 9\n",
      "\t\t* empty columns: ['ttl_1', 'ttl_2', 'ttl_3', 'ttl_4']\n",
      "\t\t* this is the row where the value -- 312.6485 -- falls. on the 9-th row\n",
      "37-th value: 316.0025\n",
      "\t\t* interval index: 9\n",
      "\t\t* empty columns: ['ttl_2', 'ttl_3', 'ttl_4']\n",
      "\t\t* this is the row where the value -- 316.0025 -- falls. on the 9-th row\n",
      "38-th value: 321.00425\n",
      "\t\t* interval index: 9\n",
      "\t\t* empty columns: ['ttl_3', 'ttl_4']\n",
      "\t\t* this is the row where the value -- 321.00425 -- falls. on the 9-th row\n",
      "39-th value: 324.087\n",
      "\t\t* interval index: 9\n",
      "\t\t* empty columns: ['ttl_4']\n",
      "\t\t* this is the row where the value -- 324.087 -- falls. on the 9-th row\n",
      "40-th value: 351.225\n",
      "\t\t* interval index: 10\n",
      "\t\t* empty columns: ['ttl_1', 'ttl_2', 'ttl_3', 'ttl_4']\n",
      "\t\t* this is the row where the value -- 351.225 -- falls. on the 10-th row\n",
      "41-th value: 354.3655\n",
      "\t\t* interval index: 10\n",
      "\t\t* empty columns: ['ttl_2', 'ttl_3', 'ttl_4']\n",
      "\t\t* this is the row where the value -- 354.3655 -- falls. on the 10-th row\n",
      "42-th value: 359.3645\n",
      "\t\t* interval index: 10\n",
      "\t\t* empty columns: ['ttl_3', 'ttl_4']\n",
      "\t\t* this is the row where the value -- 359.3645 -- falls. on the 10-th row\n",
      "43-th value: 362.2675\n",
      "\t\t* interval index: 10\n",
      "\t\t* empty columns: ['ttl_4']\n",
      "\t\t* this is the row where the value -- 362.2675 -- falls. on the 10-th row\n",
      "44-th value: 386.4165\n",
      "\t\t* interval index: 11\n",
      "\t\t* empty columns: ['ttl_1', 'ttl_2', 'ttl_3', 'ttl_4']\n",
      "\t\t* this is the row where the value -- 386.4165 -- falls. on the 11-th row\n",
      "45-th value: 389.76225\n",
      "\t\t* interval index: 11\n",
      "\t\t* empty columns: ['ttl_2', 'ttl_3', 'ttl_4']\n",
      "\t\t* this is the row where the value -- 389.76225 -- falls. on the 11-th row\n",
      "46-th value: 394.761\n",
      "\t\t* interval index: 11\n",
      "\t\t* empty columns: ['ttl_3', 'ttl_4']\n",
      "\t\t* this is the row where the value -- 394.761 -- falls. on the 11-th row\n",
      "47-th value: 397.80875\n",
      "\t\t* interval index: 11\n",
      "\t\t* empty columns: ['ttl_4']\n",
      "\t\t* this is the row where the value -- 397.80875 -- falls. on the 11-th row\n",
      "directory: /Volumes/spacetop/biopac/dartmouth/b03_extract_ttl/task-social/sub-0050/ses-03\n",
      "401.1185\n",
      "1 3\n",
      "run-04\n",
      "this is the 0-th iteration. stim value is 18.847, and is in between index 0\n",
      "this is the 1-th iteration. stim value is 45.4485, and is in between index 1\n",
      "this is the 2-th iteration. stim value is 79.9765, and is in between index 2\n",
      "this is the 3-th iteration. stim value is 105.6725, and is in between index 3\n",
      "this is the 4-th iteration. stim value is 132.2675, and is in between index 4\n",
      "this is the 5-th iteration. stim value is 167.759, and is in between index 5\n",
      "this is the 6-th iteration. stim value is 201.9695, and is in between index 6\n",
      "this is the 7-th iteration. stim value is 230.266, and is in between index 7\n",
      "this is the 8-th iteration. stim value is 269.462, and is in between index 8\n",
      "this is the 9-th iteration. stim value is 299.777, and is in between index 9\n",
      "this is the 10-th iteration. stim value is 344.841, and is in between index 10\n",
      "this is the 11-th iteration. stim value is 382.664, and is in between index 11\n",
      "0-th value: 19.3785\n",
      "\t\t* interval index: 0\n",
      "\t\t* empty columns: ['ttl_1', 'ttl_2', 'ttl_3', 'ttl_4']\n",
      "\t\t* this is the row where the value -- 19.3785 -- falls. on the 0-th row\n",
      "1-th value: 22.51675\n",
      "\t\t* interval index: 0\n",
      "\t\t* empty columns: ['ttl_2', 'ttl_3', 'ttl_4']\n",
      "\t\t* this is the row where the value -- 22.51675 -- falls. on the 0-th row\n",
      "2-th value: 27.51825\n",
      "\t\t* interval index: 0\n",
      "\t\t* empty columns: ['ttl_3', 'ttl_4']\n",
      "\t\t* this is the row where the value -- 27.51825 -- falls. on the 0-th row\n",
      "3-th value: 30.3\n",
      "\t\t* interval index: 0\n",
      "\t\t* empty columns: ['ttl_4']\n",
      "\t\t* this is the row where the value -- 30.3 -- falls. on the 0-th row\n",
      "4-th value: 45.97475\n",
      "\t\t* interval index: 1\n",
      "\t\t* empty columns: ['ttl_1', 'ttl_2', 'ttl_3', 'ttl_4']\n",
      "\t\t* this is the row where the value -- 45.97475 -- falls. on the 1-th row\n",
      "5-th value: 49.333\n",
      "\t\t* interval index: 1\n",
      "\t\t* empty columns: ['ttl_2', 'ttl_3', 'ttl_4']\n",
      "\t\t* this is the row where the value -- 49.333 -- falls. on the 1-th row\n",
      "6-th value: 54.33325\n",
      "\t\t* interval index: 1\n",
      "\t\t* empty columns: ['ttl_3', 'ttl_4']\n",
      "\t\t* this is the row where the value -- 54.33325 -- falls. on the 1-th row\n",
      "7-th value: 57.33625\n",
      "\t\t* interval index: 1\n",
      "\t\t* empty columns: ['ttl_4']\n",
      "\t\t* this is the row where the value -- 57.33625 -- falls. on the 1-th row\n",
      "8-th value: 80.5055\n",
      "\t\t* interval index: 2\n",
      "\t\t* empty columns: ['ttl_1', 'ttl_2', 'ttl_3', 'ttl_4']\n",
      "\t\t* this is the row where the value -- 80.5055 -- falls. on the 2-th row\n",
      "9-th value: 83.60575\n",
      "\t\t* interval index: 2\n",
      "\t\t* empty columns: ['ttl_2', 'ttl_3', 'ttl_4']\n",
      "\t\t* this is the row where the value -- 83.60575 -- falls. on the 2-th row\n",
      "10-th value: 88.60475\n",
      "\t\t* interval index: 2\n",
      "\t\t* empty columns: ['ttl_3', 'ttl_4']\n",
      "\t\t* this is the row where the value -- 88.60475 -- falls. on the 2-th row\n",
      "11-th value: 91.4275\n",
      "\t\t* interval index: 2\n",
      "\t\t* empty columns: ['ttl_4']\n",
      "\t\t* this is the row where the value -- 91.4275 -- falls. on the 2-th row\n",
      "12-th value: 106.2065\n",
      "\t\t* interval index: 3\n",
      "\t\t* empty columns: ['ttl_1', 'ttl_2', 'ttl_3', 'ttl_4']\n",
      "\t\t* this is the row where the value -- 106.2065 -- falls. on the 3-th row\n",
      "13-th value: 109.49175\n",
      "\t\t* interval index: 3\n",
      "\t\t* empty columns: ['ttl_2', 'ttl_3', 'ttl_4']\n",
      "\t\t* this is the row where the value -- 109.49175 -- falls. on the 3-th row\n",
      "14-th value: 114.49075\n",
      "\t\t* interval index: 3\n",
      "\t\t* empty columns: ['ttl_3', 'ttl_4']\n",
      "\t\t* this is the row where the value -- 114.49075 -- falls. on the 3-th row\n",
      "15-th value: 117.51\n",
      "\t\t* interval index: 3\n",
      "\t\t* empty columns: ['ttl_4']\n",
      "\t\t* this is the row where the value -- 117.51 -- falls. on the 3-th row\n",
      "16-th value: 132.7975\n",
      "\t\t* interval index: 4\n",
      "\t\t* empty columns: ['ttl_1', 'ttl_2', 'ttl_3', 'ttl_4']\n",
      "\t\t* this is the row where the value -- 132.7975 -- falls. on the 4-th row\n",
      "17-th value: 136.2975\n",
      "\t\t* interval index: 4\n",
      "\t\t* empty columns: ['ttl_2', 'ttl_3', 'ttl_4']\n",
      "\t\t* this is the row where the value -- 136.2975 -- falls. on the 4-th row\n",
      "18-th value: 141.297\n",
      "\t\t* interval index: 4\n",
      "\t\t* empty columns: ['ttl_3', 'ttl_4']\n",
      "\t\t* this is the row where the value -- 141.297 -- falls. on the 4-th row\n",
      "19-th value: 144.481\n",
      "\t\t* interval index: 4\n",
      "\t\t* empty columns: ['ttl_4']\n",
      "\t\t* this is the row where the value -- 144.481 -- falls. on the 4-th row\n",
      "20-th value: 168.289\n",
      "\t\t* interval index: 5\n",
      "\t\t* empty columns: ['ttl_1', 'ttl_2', 'ttl_3', 'ttl_4']\n",
      "\t\t* this is the row where the value -- 168.289 -- falls. on the 5-th row\n",
      "21-th value: 171.40325\n",
      "\t\t* interval index: 5\n",
      "\t\t* empty columns: ['ttl_2', 'ttl_3', 'ttl_4']\n",
      "\t\t* this is the row where the value -- 171.40325 -- falls. on the 5-th row\n",
      "22-th value: 176.40475\n",
      "\t\t* interval index: 5\n",
      "\t\t* empty columns: ['ttl_3', 'ttl_4']\n",
      "\t\t* this is the row where the value -- 176.40475 -- falls. on the 5-th row\n",
      "23-th value: 179.25125\n",
      "\t\t* interval index: 5\n",
      "\t\t* empty columns: ['ttl_4']\n",
      "\t\t* this is the row where the value -- 179.25125 -- falls. on the 5-th row\n",
      "24-th value: 202.5005\n",
      "\t\t* interval index: 6\n",
      "\t\t* empty columns: ['ttl_1', 'ttl_2', 'ttl_3', 'ttl_4']\n",
      "\t\t* this is the row where the value -- 202.5005 -- falls. on the 6-th row\n",
      "25-th value: 206.0445\n",
      "\t\t* interval index: 6\n",
      "\t\t* empty columns: ['ttl_2', 'ttl_3', 'ttl_4']\n",
      "\t\t* this is the row where the value -- 206.0445 -- falls. on the 6-th row\n",
      "26-th value: 211.046\n",
      "\t\t* interval index: 6\n",
      "\t\t* empty columns: ['ttl_3', 'ttl_4']\n",
      "\t\t* this is the row where the value -- 211.046 -- falls. on the 6-th row\n",
      "27-th value: 214.22775\n",
      "\t\t* interval index: 6\n",
      "\t\t* empty columns: ['ttl_4']\n",
      "\t\t* this is the row where the value -- 214.22775 -- falls. on the 6-th row\n",
      "28-th value: 230.7965\n",
      "\t\t* interval index: 7\n",
      "\t\t* empty columns: ['ttl_1', 'ttl_2', 'ttl_3', 'ttl_4']\n",
      "\t\t* this is the row where the value -- 230.7965 -- falls. on the 7-th row\n",
      "29-th value: 233.88575\n",
      "\t\t* interval index: 7\n",
      "\t\t* empty columns: ['ttl_2', 'ttl_3', 'ttl_4']\n",
      "\t\t* this is the row where the value -- 233.88575 -- falls. on the 7-th row\n",
      "30-th value: 238.886\n",
      "\t\t* interval index: 7\n",
      "\t\t* empty columns: ['ttl_3', 'ttl_4']\n",
      "\t\t* this is the row where the value -- 238.886 -- falls. on the 7-th row\n",
      "31-th value: 241.77475\n",
      "\t\t* interval index: 7\n",
      "\t\t* empty columns: ['ttl_4']\n",
      "\t\t* this is the row where the value -- 241.77475 -- falls. on the 7-th row\n",
      "32-th value: 269.99325\n",
      "\t\t* interval index: 8\n",
      "\t\t* empty columns: ['ttl_1', 'ttl_2', 'ttl_3', 'ttl_4']\n",
      "\t\t* this is the row where the value -- 269.99325 -- falls. on the 8-th row\n",
      "33-th value: 273.51875\n",
      "\t\t* interval index: 8\n",
      "\t\t* empty columns: ['ttl_2', 'ttl_3', 'ttl_4']\n",
      "\t\t* this is the row where the value -- 273.51875 -- falls. on the 8-th row\n",
      "34-th value: 278.519\n",
      "\t\t* interval index: 8\n",
      "\t\t* empty columns: ['ttl_3', 'ttl_4']\n",
      "\t\t* this is the row where the value -- 278.519 -- falls. on the 8-th row\n",
      "35-th value: 281.68475\n",
      "\t\t* interval index: 8\n",
      "\t\t* empty columns: ['ttl_4']\n",
      "\t\t* this is the row where the value -- 281.68475 -- falls. on the 8-th row\n",
      "36-th value: 300.3095\n",
      "\t\t* interval index: 9\n",
      "\t\t* empty columns: ['ttl_1', 'ttl_2', 'ttl_3', 'ttl_4']\n",
      "\t\t* this is the row where the value -- 300.3095 -- falls. on the 9-th row\n",
      "37-th value: 303.87375\n",
      "\t\t* interval index: 9\n",
      "\t\t* empty columns: ['ttl_2', 'ttl_3', 'ttl_4']\n",
      "\t\t* this is the row where the value -- 303.87375 -- falls. on the 9-th row\n",
      "38-th value: 308.874\n",
      "\t\t* interval index: 9\n",
      "\t\t* empty columns: ['ttl_3', 'ttl_4']\n",
      "\t\t* this is the row where the value -- 308.874 -- falls. on the 9-th row\n",
      "39-th value: 312.058\n",
      "\t\t* interval index: 9\n",
      "\t\t* empty columns: ['ttl_4']\n",
      "\t\t* this is the row where the value -- 312.058 -- falls. on the 9-th row\n",
      "40-th value: 345.3765\n",
      "\t\t* interval index: 10\n",
      "\t\t* empty columns: ['ttl_1', 'ttl_2', 'ttl_3', 'ttl_4']\n",
      "\t\t* this is the row where the value -- 345.3765 -- falls. on the 10-th row\n",
      "41-th value: 348.71575\n",
      "\t\t* interval index: 10\n",
      "\t\t* empty columns: ['ttl_2', 'ttl_3', 'ttl_4']\n",
      "\t\t* this is the row where the value -- 348.71575 -- falls. on the 10-th row\n",
      "42-th value: 353.716\n",
      "\t\t* interval index: 10\n",
      "\t\t* empty columns: ['ttl_3', 'ttl_4']\n",
      "\t\t* this is the row where the value -- 353.716 -- falls. on the 10-th row\n",
      "43-th value: 356.72875\n",
      "\t\t* interval index: 10\n",
      "\t\t* empty columns: ['ttl_4']\n",
      "\t\t* this is the row where the value -- 356.72875 -- falls. on the 10-th row\n",
      "44-th value: 383.193\n",
      "\t\t* interval index: 11\n",
      "\t\t* empty columns: ['ttl_1', 'ttl_2', 'ttl_3', 'ttl_4']\n",
      "\t\t* this is the row where the value -- 383.193 -- falls. on the 11-th row\n",
      "45-th value: 386.5175\n",
      "\t\t* interval index: 11\n",
      "\t\t* empty columns: ['ttl_2', 'ttl_3', 'ttl_4']\n",
      "\t\t* this is the row where the value -- 386.5175 -- falls. on the 11-th row\n",
      "46-th value: 391.5175\n",
      "\t\t* interval index: 11\n",
      "\t\t* empty columns: ['ttl_3', 'ttl_4']\n",
      "\t\t* this is the row where the value -- 391.5175 -- falls. on the 11-th row\n",
      "47-th value: 394.5505\n",
      "\t\t* interval index: 11\n",
      "\t\t* empty columns: ['ttl_4']\n",
      "\t\t* this is the row where the value -- 394.5505 -- falls. on the 11-th row\n",
      "directory: /Volumes/spacetop/biopac/dartmouth/b03_extract_ttl/task-social/sub-0050/ses-03\n"
     ]
    }
   ],
   "source": [
    "filename = os.path.basename(acq)\n",
    "sub = [match for match in filename.split('_') if \"sub\" in match][0]\n",
    "ses = [match for match in filename.split('_') if \"ses\" in match][0] # 'ses-03'\n",
    "task = [match for match in filename.split('_') if \"task\" in match][0]\n",
    "\n",
    "try: \n",
    "    \n",
    "    spacetop_data, spacetop_samplingrate = nk.read_acqknowledge(acq)\n",
    "\n",
    "    # ____________________________________ identify run transitions ____________________________________\n",
    "    # %% EV trigger :: identify transitions based on \"fMRI Trigger - CBLCFMA - Current Feedba\" ev \n",
    "    spacetop_data['mr_aniso'] = spacetop_data['fMRI Trigger - CBLCFMA - Current Feedba'].rolling(window=460*2).mean()\n",
    "    mid_val = (np.max(spacetop_data['mr_aniso']) - np.min(spacetop_data['mr_aniso']))/2\n",
    "    spacetop_data.loc[spacetop_data['mr_aniso'] > mid_val, 'mr_aniso'] = 5\n",
    "    spacetop_data.loc[spacetop_data['mr_aniso'] <= mid_val, 'mr_aniso'] = 0\n",
    "    start_df = spacetop_data[spacetop_data['mr_aniso'] > spacetop_data['mr_aniso'].shift(1)].index\n",
    "    stop_df = spacetop_data[spacetop_data['mr_aniso'] < spacetop_data['mr_aniso'].shift(1)].index\n",
    "\n",
    "    # %% EV TTL :: identify ttl events based on TTL column\n",
    "    spacetop_data['TTL'] = spacetop_data['TSA2 TTL - CBLCFMA - Current Feedback M'].rolling(window=2000).mean()\n",
    "    spacetop_data.loc[spacetop_data['TTL'] > 5, 'ttl_aniso'] = 5\n",
    "    spacetop_data.loc[spacetop_data['TTL'] <= 5, 'ttl_aniso'] = 0\n",
    "\n",
    "    # %% EV stimuli :: \n",
    "    mid_val = (np.max(spacetop_data['administer']) - np.min(spacetop_data['administer']))/2\n",
    "    spacetop_data.loc[spacetop_data['administer'] > mid_val, 'stimuli'] = 5\n",
    "    spacetop_data.loc[spacetop_data['administer'] <= mid_val, 'stimuli'] = 0\n",
    "\n",
    "    df_transition = pd.DataFrame({\n",
    "                    'start_df': start_df, \n",
    "                    'stop_df': stop_df\n",
    "                    })\n",
    "\n",
    "    # identify runs with TTL signal\n",
    "    ttl_bool = [];runs_with_ttl = []\n",
    "    for r in range(len(start_df)):\n",
    "        bool_val = np.unique(spacetop_data.iloc[df_transition.start_df[r]:df_transition.stop_df[r],spacetop_data.columns.get_loc('ttl_aniso')]).any()\n",
    "        ttl_bool.append(bool_val)\n",
    "\n",
    "    for r in range(len(start_df)):\n",
    "        spacetop_data.at[start_df[r]:stop_df[r], 'run_num'] = r+1\n",
    "    runs_with_ttl = [i for i, x in enumerate(ttl_bool) if x]\n",
    "    \n",
    "    # TODO: if each run,greater than 395 s\n",
    "\n",
    "    # ____________________________________ identify TTL signals and trials ____________________________________\n",
    "    # run_len = len(df_transition)\n",
    "    # if run_len == 6:\n",
    "    if runs_with_ttl:\n",
    "        print(sub, ses, task)\n",
    "        print(f\"runs with ttl: {runs_with_ttl}\")\n",
    "        for i, run_num in enumerate(runs_with_ttl):\n",
    "            run_subset = spacetop_data.loc[spacetop_data['run_num'] == run_num+1]\n",
    "            print(len(run_subset)/2000)\n",
    "            # final_df = pd.DataFrame()\n",
    "            if 300 < len(run_subset)/2000 < 450: # check if run length is around 389 s\n",
    "                print(i, run_num)\n",
    "\n",
    "                run = f\"run-{run_num + 1:02d}\"\n",
    "                print(run)\n",
    "\n",
    "                run_df = run_subset.reset_index()\n",
    "                # identify events :: expect and actual _________________\n",
    "                start_expect = run_df[run_df['expect'] > run_df[ 'expect'].shift(1)]\n",
    "                start_actual = run_df[run_df['actual'] > run_df[ 'actual'].shift(1)]\n",
    "                stop_actual= run_df[run_df['actual'] < run_df[ 'actual'].shift(1)]\n",
    "\n",
    "                # identify events :: stimulli _________________\n",
    "                start_stim = run_df[run_df['stimuli'] > run_df[ 'stimuli'].shift(1)]\n",
    "                stop_stim= run_df[run_df['stimuli'] < run_df[ 'stimuli'].shift(1)]\n",
    "                events = nk.events_create(event_onsets=list(start_stim.index), \n",
    "                event_durations = list((stop_stim.index-start_stim.index)/spacetop_samplingrate))\n",
    "\n",
    "                # transform events :: transform to onset _________________\n",
    "                expect_start = start_expect.index/spacetop_samplingrate\n",
    "                actual_end = stop_actual.index/spacetop_samplingrate\n",
    "                stim_start = start_stim.index/spacetop_samplingrate\n",
    "                stim_end = stop_stim.index/spacetop_samplingrate\n",
    "                stim_onset = events['onset']/spacetop_samplingrate\n",
    "\n",
    "                # build pandas dataframe _________________\n",
    "                df_onset = pd.DataFrame({\n",
    "                    'expect_start': expect_start, \n",
    "                    'actual_end': actual_end,\n",
    "                    'stim_start': np.nan,\n",
    "                    'stim_end':np.nan\n",
    "                })\n",
    "\n",
    "                df_stim = pd.DataFrame({\n",
    "                    'stim_start': stim_start, \n",
    "                    'stim_end': stim_end\n",
    "                    })\n",
    "                # events :: stimuli\n",
    "                # for loop, identify the order of \"stimulus events\" \n",
    "                # based on information of \"expect, actual\" events, we will assign a trial number to stimulus events\n",
    "                # RESOURCE: https://stackoverflow.com/questions/62300474/filter-all-rows-in-a-pandas-dataframe-where-a-given-value-is-between-two-columnv\n",
    "                for i in range(len(df_stim)):\n",
    "                    idx = pd.IntervalIndex.from_arrays(\n",
    "                        df_onset['expect_start'], df_onset['actual_end'])\n",
    "                    start_val = df_stim.iloc[i][df_stim.columns.get_loc('stim_start')]\n",
    "                    interval_idx = df_onset[idx.contains(start_val)].index[0]\n",
    "                    df_onset.iloc[interval_idx, df_onset.columns.get_loc('stim_start')] = start_val\n",
    "\n",
    "                    end_val = df_stim.iloc[i][df_stim.columns.get_loc('stim_end')]\n",
    "                    interval_idx = df_onset[idx.contains(end_val)].index[0]\n",
    "                    df_onset.iloc[interval_idx, df_onset.columns.get_loc('stim_end')] = end_val\n",
    "                    print(f\"this is the {i}-th iteration. stim value is {start_val}, and is in between index {interval_idx}\")\n",
    "                start_ttl = run_df[run_df['ttl_aniso'] > run_df[ 'ttl_aniso'].shift(1)]\n",
    "                stop_ttl = run_df[run_df['ttl_aniso'] < run_df[ 'ttl_aniso'].shift(1)]\n",
    "                ttl_onsets =   list(start_ttl.index + (stop_ttl.index-start_ttl.index)/2)/spacetop_samplingrate\n",
    "                # print(f\"ttl onsets: {ttl_onsets}, length of ttl onset is : {len(ttl_onsets)}\")\n",
    "                # define empty TTL data frame\n",
    "                df_ttl = pd.DataFrame(np.nan, \n",
    "                                    index=np.arange(len(df_onset)),\n",
    "                                    columns= ['ttl_1', 'ttl_2','ttl_3', 'ttl_4'])\n",
    "                # identify which set of TTLs fall between expect and actual \n",
    "                pad = 1 # seconds. you may increase the value to have a bigger event search interval\n",
    "                df_onset['expect_start_interval'] = df_onset['expect_start']-pad\n",
    "                df_onset['actual_end_interval'] = df_onset['actual_end']+pad\n",
    "                adjusted = df_onset['actual_end_interval']\n",
    "                adjusted.iloc[-1,:] = len(run_subset)/2000\n",
    "                a_idx = pd.IntervalIndex.from_arrays(\n",
    "                            df_onset['expect_start_interval'],adjusted)\n",
    "                for i in range(len(ttl_onsets)):\n",
    "                    val = ttl_onsets[i] # \n",
    "                    print(f\"{i}-th value: {val}\")\n",
    "                    empty_cols = []\n",
    "                    interval_idx = df_onset[a_idx.contains(val)].index[0] # \n",
    "                    print(f\"\\t\\t* interval index: {interval_idx}\")\n",
    "                    mask = df_ttl.loc[[interval_idx]].isnull()\n",
    "                    empty_cols = list(itertools.compress(np.array(df_ttl.columns.to_list()), mask.values[0])) # \n",
    "                    print(f\"\\t\\t* empty columns: {empty_cols}\")\n",
    "                    df_ttl.loc[df_ttl.index[interval_idx], str(empty_cols[0])] = val # \n",
    "                    print(f\"\\t\\t* this is the row where the value -- {val} -- falls. on the {interval_idx}-th row\")\n",
    "\n",
    "                # fdf = pd.concat([df_onset, df_ttl],axis = 1)\n",
    "                fdf = pd.merge(df_onset, df_ttl, left_index=True, right_index=True)\n",
    "                fdf['ttl_r1'] = fdf['ttl_1'] - fdf['stim_start']\n",
    "                fdf['ttl_r2'] = fdf['ttl_2'] - fdf['stim_start']\n",
    "                fdf['ttl_r3'] = fdf['ttl_3'] - fdf['stim_start']\n",
    "                fdf['ttl_r4'] = fdf['ttl_4'] - fdf['stim_start']\n",
    "                save_filename = f\"{sub}_{ses}_{task}_{run}_physio-ttl.csv\"\n",
    "                new_dir = os.path.join(save_dir, task, sub, ses)\n",
    "                print(f\"directory: {new_dir}\")\n",
    "                Path(new_dir).mkdir( parents=True, exist_ok=True )\n",
    "                fdf.reset_index(inplace=True)\n",
    "                fdf = fdf.rename(columns = {'index':'trial_num'})\n",
    "                fdf.to_csv(os.path.join(new_dir, save_filename), index=False)\n",
    "            else:\n",
    "                flaglist.append('\\nrun length is shorter than 380s or longer than 410s')\n",
    "                flaglist.append(acq_list)\n",
    "    else: \n",
    "        print(\"no runs with TTL\")\n",
    "except:\n",
    "    flaglist.append('\\nfailed')\n",
    "    flaglist.append(acq_list)"
   ]
  },
  {
   "cell_type": "code",
   "execution_count": 120,
   "metadata": {},
   "outputs": [],
   "source": [
    "adjusted = df_onset['actual_end_interval']\n",
    "adjusted.iloc[-1,:] = len(run_subset)/2000"
   ]
  },
  {
   "cell_type": "code",
   "execution_count": 121,
   "metadata": {},
   "outputs": [],
   "source": []
  },
  {
   "cell_type": "code",
   "execution_count": 122,
   "metadata": {},
   "outputs": [
    {
     "data": {
      "text/plain": [
       "0      48.4065\n",
       "1      78.1190\n",
       "2     103.2525\n",
       "3     149.3525\n",
       "4     182.2225\n",
       "5     207.1860\n",
       "6     240.6860\n",
       "7     265.9700\n",
       "8     301.8360\n",
       "9     333.5190\n",
       "10    366.3410\n",
       "11    401.1185\n",
       "Name: actual_end_interval, dtype: float64"
      ]
     },
     "execution_count": 122,
     "metadata": {},
     "output_type": "execute_result"
    }
   ],
   "source": [
    "adjusted"
   ]
  },
  {
   "cell_type": "code",
   "execution_count": 100,
   "metadata": {},
   "outputs": [
    {
     "ename": "IndexError",
     "evalue": "list index out of range",
     "output_type": "error",
     "traceback": [
      "\u001b[0;31m---------------------------------------------------------------------------\u001b[0m",
      "\u001b[0;31mIndexError\u001b[0m                                Traceback (most recent call last)",
      "\u001b[0;32m<ipython-input-100-d4aaf77f886a>\u001b[0m in \u001b[0;36m<module>\u001b[0;34m\u001b[0m\n\u001b[0;32m----> 1\u001b[0;31m \u001b[0mdf_ttl\u001b[0m\u001b[0;34m.\u001b[0m\u001b[0mloc\u001b[0m\u001b[0;34m[\u001b[0m\u001b[0mdf_ttl\u001b[0m\u001b[0;34m.\u001b[0m\u001b[0mindex\u001b[0m\u001b[0;34m[\u001b[0m\u001b[0minterval_idx\u001b[0m\u001b[0;34m]\u001b[0m\u001b[0;34m,\u001b[0m \u001b[0mstr\u001b[0m\u001b[0;34m(\u001b[0m\u001b[0mempty_cols\u001b[0m\u001b[0;34m[\u001b[0m\u001b[0;36m0\u001b[0m\u001b[0;34m]\u001b[0m\u001b[0;34m)\u001b[0m\u001b[0;34m]\u001b[0m\u001b[0;34m\u001b[0m\u001b[0;34m\u001b[0m\u001b[0m\n\u001b[0m",
      "\u001b[0;31mIndexError\u001b[0m: list index out of range"
     ]
    }
   ],
   "source": [
    "df_ttl.loc[df_ttl.index[interval_idx], str(empty_cols[0])]"
   ]
  },
  {
   "cell_type": "code",
   "execution_count": 104,
   "metadata": {},
   "outputs": [
    {
     "data": {
      "text/html": [
       "<div>\n",
       "<style scoped>\n",
       "    .dataframe tbody tr th:only-of-type {\n",
       "        vertical-align: middle;\n",
       "    }\n",
       "\n",
       "    .dataframe tbody tr th {\n",
       "        vertical-align: top;\n",
       "    }\n",
       "\n",
       "    .dataframe thead th {\n",
       "        text-align: right;\n",
       "    }\n",
       "</style>\n",
       "<table border=\"1\" class=\"dataframe\">\n",
       "  <thead>\n",
       "    <tr style=\"text-align: right;\">\n",
       "      <th></th>\n",
       "      <th>ttl_1</th>\n",
       "      <th>ttl_2</th>\n",
       "      <th>ttl_3</th>\n",
       "      <th>ttl_4</th>\n",
       "    </tr>\n",
       "  </thead>\n",
       "  <tbody>\n",
       "    <tr>\n",
       "      <th>0</th>\n",
       "      <td>NaN</td>\n",
       "      <td>NaN</td>\n",
       "      <td>NaN</td>\n",
       "      <td>NaN</td>\n",
       "    </tr>\n",
       "    <tr>\n",
       "      <th>1</th>\n",
       "      <td>NaN</td>\n",
       "      <td>NaN</td>\n",
       "      <td>NaN</td>\n",
       "      <td>NaN</td>\n",
       "    </tr>\n",
       "    <tr>\n",
       "      <th>2</th>\n",
       "      <td>NaN</td>\n",
       "      <td>NaN</td>\n",
       "      <td>NaN</td>\n",
       "      <td>NaN</td>\n",
       "    </tr>\n",
       "    <tr>\n",
       "      <th>3</th>\n",
       "      <td>NaN</td>\n",
       "      <td>NaN</td>\n",
       "      <td>NaN</td>\n",
       "      <td>NaN</td>\n",
       "    </tr>\n",
       "    <tr>\n",
       "      <th>4</th>\n",
       "      <td>NaN</td>\n",
       "      <td>NaN</td>\n",
       "      <td>NaN</td>\n",
       "      <td>NaN</td>\n",
       "    </tr>\n",
       "    <tr>\n",
       "      <th>5</th>\n",
       "      <td>NaN</td>\n",
       "      <td>NaN</td>\n",
       "      <td>NaN</td>\n",
       "      <td>NaN</td>\n",
       "    </tr>\n",
       "    <tr>\n",
       "      <th>6</th>\n",
       "      <td>NaN</td>\n",
       "      <td>NaN</td>\n",
       "      <td>NaN</td>\n",
       "      <td>NaN</td>\n",
       "    </tr>\n",
       "    <tr>\n",
       "      <th>7</th>\n",
       "      <td>NaN</td>\n",
       "      <td>NaN</td>\n",
       "      <td>NaN</td>\n",
       "      <td>NaN</td>\n",
       "    </tr>\n",
       "    <tr>\n",
       "      <th>8</th>\n",
       "      <td>NaN</td>\n",
       "      <td>NaN</td>\n",
       "      <td>NaN</td>\n",
       "      <td>NaN</td>\n",
       "    </tr>\n",
       "    <tr>\n",
       "      <th>9</th>\n",
       "      <td>NaN</td>\n",
       "      <td>NaN</td>\n",
       "      <td>NaN</td>\n",
       "      <td>NaN</td>\n",
       "    </tr>\n",
       "    <tr>\n",
       "      <th>10</th>\n",
       "      <td>NaN</td>\n",
       "      <td>NaN</td>\n",
       "      <td>NaN</td>\n",
       "      <td>NaN</td>\n",
       "    </tr>\n",
       "    <tr>\n",
       "      <th>11</th>\n",
       "      <td>NaN</td>\n",
       "      <td>NaN</td>\n",
       "      <td>NaN</td>\n",
       "      <td>NaN</td>\n",
       "    </tr>\n",
       "  </tbody>\n",
       "</table>\n",
       "</div>"
      ],
      "text/plain": [
       "    ttl_1  ttl_2  ttl_3  ttl_4\n",
       "0     NaN    NaN    NaN    NaN\n",
       "1     NaN    NaN    NaN    NaN\n",
       "2     NaN    NaN    NaN    NaN\n",
       "3     NaN    NaN    NaN    NaN\n",
       "4     NaN    NaN    NaN    NaN\n",
       "5     NaN    NaN    NaN    NaN\n",
       "6     NaN    NaN    NaN    NaN\n",
       "7     NaN    NaN    NaN    NaN\n",
       "8     NaN    NaN    NaN    NaN\n",
       "9     NaN    NaN    NaN    NaN\n",
       "10    NaN    NaN    NaN    NaN\n",
       "11    NaN    NaN    NaN    NaN"
      ]
     },
     "execution_count": 104,
     "metadata": {},
     "output_type": "execute_result"
    }
   ],
   "source": [
    "df_ttl"
   ]
  },
  {
   "cell_type": "code",
   "execution_count": 102,
   "metadata": {},
   "outputs": [
    {
     "data": {
      "text/html": [
       "<div>\n",
       "<style scoped>\n",
       "    .dataframe tbody tr th:only-of-type {\n",
       "        vertical-align: middle;\n",
       "    }\n",
       "\n",
       "    .dataframe tbody tr th {\n",
       "        vertical-align: top;\n",
       "    }\n",
       "\n",
       "    .dataframe thead th {\n",
       "        text-align: right;\n",
       "    }\n",
       "</style>\n",
       "<table border=\"1\" class=\"dataframe\">\n",
       "  <thead>\n",
       "    <tr style=\"text-align: right;\">\n",
       "      <th></th>\n",
       "      <th>expect_start</th>\n",
       "      <th>actual_end</th>\n",
       "      <th>stim_start</th>\n",
       "      <th>stim_end</th>\n",
       "      <th>expect_start_interval</th>\n",
       "      <th>actual_end_interval</th>\n",
       "      <th>ttl_1</th>\n",
       "      <th>ttl_2</th>\n",
       "      <th>ttl_3</th>\n",
       "      <th>ttl_4</th>\n",
       "    </tr>\n",
       "  </thead>\n",
       "  <tbody>\n",
       "    <tr>\n",
       "      <th>0</th>\n",
       "      <td>14.7770</td>\n",
       "      <td>47.4065</td>\n",
       "      <td>31.0075</td>\n",
       "      <td>39.9460</td>\n",
       "      <td>13.7770</td>\n",
       "      <td>48.4065</td>\n",
       "      <td>31.53150</td>\n",
       "      <td>34.91550</td>\n",
       "      <td>39.91575</td>\n",
       "      <td>42.95000</td>\n",
       "    </tr>\n",
       "    <tr>\n",
       "      <th>1</th>\n",
       "      <td>54.1690</td>\n",
       "      <td>77.1190</td>\n",
       "      <td>60.8845</td>\n",
       "      <td>69.8465</td>\n",
       "      <td>53.1690</td>\n",
       "      <td>78.1190</td>\n",
       "      <td>61.41750</td>\n",
       "      <td>64.99325</td>\n",
       "      <td>69.99300</td>\n",
       "      <td>73.24625</td>\n",
       "    </tr>\n",
       "    <tr>\n",
       "      <th>2</th>\n",
       "      <td>86.2700</td>\n",
       "      <td>102.2525</td>\n",
       "      <td>90.9860</td>\n",
       "      <td>99.9460</td>\n",
       "      <td>85.2700</td>\n",
       "      <td>103.2525</td>\n",
       "      <td>91.52500</td>\n",
       "      <td>94.63800</td>\n",
       "      <td>99.63825</td>\n",
       "      <td>102.55750</td>\n",
       "    </tr>\n",
       "    <tr>\n",
       "      <th>3</th>\n",
       "      <td>119.7690</td>\n",
       "      <td>148.3525</td>\n",
       "      <td>131.2775</td>\n",
       "      <td>140.2460</td>\n",
       "      <td>118.7690</td>\n",
       "      <td>149.3525</td>\n",
       "      <td>131.81550</td>\n",
       "      <td>135.18500</td>\n",
       "      <td>140.18625</td>\n",
       "      <td>143.26925</td>\n",
       "    </tr>\n",
       "    <tr>\n",
       "      <th>4</th>\n",
       "      <td>153.1690</td>\n",
       "      <td>181.2225</td>\n",
       "      <td>169.3735</td>\n",
       "      <td>178.3465</td>\n",
       "      <td>152.1690</td>\n",
       "      <td>182.2225</td>\n",
       "      <td>169.91750</td>\n",
       "      <td>173.49275</td>\n",
       "      <td>178.49300</td>\n",
       "      <td>181.74450</td>\n",
       "    </tr>\n",
       "    <tr>\n",
       "      <th>5</th>\n",
       "      <td>187.5690</td>\n",
       "      <td>206.1860</td>\n",
       "      <td>194.0745</td>\n",
       "      <td>203.0460</td>\n",
       "      <td>186.5690</td>\n",
       "      <td>207.1860</td>\n",
       "      <td>194.61850</td>\n",
       "      <td>198.17375</td>\n",
       "      <td>203.17400</td>\n",
       "      <td>206.40675</td>\n",
       "    </tr>\n",
       "    <tr>\n",
       "      <th>6</th>\n",
       "      <td>216.9690</td>\n",
       "      <td>239.6860</td>\n",
       "      <td>223.4890</td>\n",
       "      <td>232.4460</td>\n",
       "      <td>215.9690</td>\n",
       "      <td>240.6860</td>\n",
       "      <td>224.01950</td>\n",
       "      <td>227.13525</td>\n",
       "      <td>232.13400</td>\n",
       "      <td>235.05200</td>\n",
       "    </tr>\n",
       "    <tr>\n",
       "      <th>7</th>\n",
       "      <td>247.7690</td>\n",
       "      <td>264.9700</td>\n",
       "      <td>252.4820</td>\n",
       "      <td>261.4460</td>\n",
       "      <td>246.7690</td>\n",
       "      <td>265.9700</td>\n",
       "      <td>253.01675</td>\n",
       "      <td>256.56000</td>\n",
       "      <td>261.56175</td>\n",
       "      <td>264.82875</td>\n",
       "    </tr>\n",
       "    <tr>\n",
       "      <th>8</th>\n",
       "      <td>272.8690</td>\n",
       "      <td>300.8360</td>\n",
       "      <td>280.2110</td>\n",
       "      <td>289.1460</td>\n",
       "      <td>271.8690</td>\n",
       "      <td>301.8360</td>\n",
       "      <td>280.74300</td>\n",
       "      <td>283.84125</td>\n",
       "      <td>288.84150</td>\n",
       "      <td>291.79475</td>\n",
       "    </tr>\n",
       "    <tr>\n",
       "      <th>9</th>\n",
       "      <td>306.7695</td>\n",
       "      <td>332.5190</td>\n",
       "      <td>312.1185</td>\n",
       "      <td>321.0460</td>\n",
       "      <td>305.7695</td>\n",
       "      <td>333.5190</td>\n",
       "      <td>312.64850</td>\n",
       "      <td>316.00250</td>\n",
       "      <td>321.00425</td>\n",
       "      <td>324.08700</td>\n",
       "    </tr>\n",
       "    <tr>\n",
       "      <th>10</th>\n",
       "      <td>340.7690</td>\n",
       "      <td>365.3410</td>\n",
       "      <td>350.6980</td>\n",
       "      <td>359.6460</td>\n",
       "      <td>339.7690</td>\n",
       "      <td>366.3410</td>\n",
       "      <td>351.22500</td>\n",
       "      <td>354.36550</td>\n",
       "      <td>359.36450</td>\n",
       "      <td>362.26750</td>\n",
       "    </tr>\n",
       "    <tr>\n",
       "      <th>11</th>\n",
       "      <td>379.3695</td>\n",
       "      <td>396.5190</td>\n",
       "      <td>385.8790</td>\n",
       "      <td>394.8460</td>\n",
       "      <td>378.3695</td>\n",
       "      <td>397.5190</td>\n",
       "      <td>386.41650</td>\n",
       "      <td>389.76225</td>\n",
       "      <td>394.76100</td>\n",
       "      <td>NaN</td>\n",
       "    </tr>\n",
       "  </tbody>\n",
       "</table>\n",
       "</div>"
      ],
      "text/plain": [
       "    expect_start  actual_end  stim_start  stim_end  expect_start_interval  \\\n",
       "0        14.7770     47.4065     31.0075   39.9460                13.7770   \n",
       "1        54.1690     77.1190     60.8845   69.8465                53.1690   \n",
       "2        86.2700    102.2525     90.9860   99.9460                85.2700   \n",
       "3       119.7690    148.3525    131.2775  140.2460               118.7690   \n",
       "4       153.1690    181.2225    169.3735  178.3465               152.1690   \n",
       "5       187.5690    206.1860    194.0745  203.0460               186.5690   \n",
       "6       216.9690    239.6860    223.4890  232.4460               215.9690   \n",
       "7       247.7690    264.9700    252.4820  261.4460               246.7690   \n",
       "8       272.8690    300.8360    280.2110  289.1460               271.8690   \n",
       "9       306.7695    332.5190    312.1185  321.0460               305.7695   \n",
       "10      340.7690    365.3410    350.6980  359.6460               339.7690   \n",
       "11      379.3695    396.5190    385.8790  394.8460               378.3695   \n",
       "\n",
       "    actual_end_interval      ttl_1      ttl_2      ttl_3      ttl_4  \n",
       "0               48.4065   31.53150   34.91550   39.91575   42.95000  \n",
       "1               78.1190   61.41750   64.99325   69.99300   73.24625  \n",
       "2              103.2525   91.52500   94.63800   99.63825  102.55750  \n",
       "3              149.3525  131.81550  135.18500  140.18625  143.26925  \n",
       "4              182.2225  169.91750  173.49275  178.49300  181.74450  \n",
       "5              207.1860  194.61850  198.17375  203.17400  206.40675  \n",
       "6              240.6860  224.01950  227.13525  232.13400  235.05200  \n",
       "7              265.9700  253.01675  256.56000  261.56175  264.82875  \n",
       "8              301.8360  280.74300  283.84125  288.84150  291.79475  \n",
       "9              333.5190  312.64850  316.00250  321.00425  324.08700  \n",
       "10             366.3410  351.22500  354.36550  359.36450  362.26750  \n",
       "11             397.5190  386.41650  389.76225  394.76100        NaN  "
      ]
     },
     "execution_count": 102,
     "metadata": {},
     "output_type": "execute_result"
    }
   ],
   "source": [
    "pd.concat([df_onset, df_ttl],axis = 1)"
   ]
  },
  {
   "cell_type": "code",
   "execution_count": 32,
   "metadata": {},
   "outputs": [],
   "source": [
    "final_df = pd.merge(df_onset, df_ttl, left_index=True, right_index=True)"
   ]
  }
 ],
 "metadata": {
  "interpreter": {
   "hash": "71a02125e2d8c74aca701b6f984ac6fa757bca77ac94b30aa2459c0776e1e591"
  },
  "kernelspec": {
   "display_name": "biopac",
   "language": "python",
   "name": "python3"
  },
  "language_info": {
   "codemirror_mode": {
    "name": "ipython",
    "version": 3
   },
   "file_extension": ".py",
   "mimetype": "text/x-python",
   "name": "python",
   "nbconvert_exporter": "python",
   "pygments_lexer": "ipython3",
   "version": "3.9.5"
  },
  "orig_nbformat": 4
 },
 "nbformat": 4,
 "nbformat_minor": 2
}
