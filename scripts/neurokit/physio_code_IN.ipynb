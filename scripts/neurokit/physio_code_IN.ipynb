{
 "cells": [
  {
   "cell_type": "markdown",
   "metadata": {},
   "source": [
    "### Load libraries "
   ]
  },
  {
   "cell_type": "code",
   "execution_count": null,
   "metadata": {},
   "outputs": [],
   "source": [
    "import neurokit2 as nk\n",
    "import pandas as pd\n",
    "import numpy as np\n",
    "import matplotlib.pyplot as plt"
   ]
  },
  {
   "cell_type": "markdown",
   "metadata": {},
   "source": [
    "### Load data \n",
    "note: this is still the old code and not updated with Heejung's code yet"
   ]
  },
  {
   "cell_type": "code",
   "execution_count": null,
   "metadata": {},
   "outputs": [],
   "source": [
    "#%% parameters \n",
    "run_num = 2\n",
    "\n",
    "#%% Get data\n",
    "spacetop_data, spacetop_samplingrate = nk.read_acqknowledge('/Users/isabelneumann/Desktop/CANlab/Heejung/Neurokit/data/biopac_sub-0051-0053/sub-0051/ses-03/SOCIAL_spacetop_sub-0051_ses-03_task-social_ANISO.acq')\n",
    "print(spacetop_data.columns)\n",
    "bdf = pd.read_csv('/Users/isabelneumann/Desktop/CANlab/Heejung/Neurokit/data/behavioral_sub-0051-0053/sub-0051/ses-03/sub-0051_ses-03_task-social_run-02-pain_beh.csv')"
   ]
  },
  {
   "cell_type": "markdown",
   "metadata": {},
   "source": [
    "### Organize data \n",
    "note: this is still the old code and not updated with Heejung's code yet, therefore there are not too many comments or markdowns "
   ]
  },
  {
   "cell_type": "code",
   "execution_count": null,
   "metadata": {},
   "outputs": [],
   "source": [
    "#%% Organize data: trigger onsets\n",
    "mid_val = (np.max(spacetop_data['trigger']) - np.min(spacetop_data['trigger']))/2\n",
    "spacetop_data.loc[spacetop_data['trigger'] > mid_val, 'fmri_trigger'] = 5\n",
    "spacetop_data.loc[spacetop_data['trigger'] <= mid_val, 'fmri_trigger'] = 0\n",
    "\n",
    "start_df = spacetop_data[spacetop_data['fmri_trigger'] > spacetop_data['fmri_trigger'].shift(1)].index\n",
    "stop_df = spacetop_data[spacetop_data['fmri_trigger'] < spacetop_data['fmri_trigger'].shift(1)].index\n",
    "print(start_df)\n",
    "print(stop_df)\n",
    "\n",
    "#%% Organize data: transition\n",
    "df_transition = pd.DataFrame({\n",
    "                        'start_df': start_df, \n",
    "                        'stop_df': stop_df\n",
    "                        })\n",
    "run_subset = spacetop_data[df_transition.start_df[run_num]: df_transition.stop_df[run_num]]\n",
    "run_df = run_subset.reset_index()\n",
    "\n",
    "#%% Organize data: start & end of condition \n",
    "expect_start = run_df[run_df['expect'] > run_df['expect'].shift(1)]\n",
    "expect_end = run_df[run_df['expect'] < run_df['expect'].shift(1)]\n",
    "\n",
    "#%% Organize data: extract start & end for creating events\n",
    "expect_start_list = expect_start.index.tolist()\n",
    "print(expect_start_list)\n",
    "expect_end_list = expect_end.index.tolist()\n",
    "event_labels = [1,2,1,3,5,6,5,4,4,6,2,3] # muss man irgendwie in events reinkriegen \n",
    "\n",
    "#%% Organize data: define events \n",
    "expect_events = nk.events_create(event_onsets=expect_start_list, \n",
    "                                 event_durations = 8000, # brauche ich die Länge überhaupt?\n",
    "                                 event_conditions=event_labels)\n",
    "print(expect_events)"
   ]
  },
  {
   "cell_type": "markdown",
   "metadata": {},
   "source": [
    "### Process EDA signal \n",
    "note: \n",
    "- all these steps are included in nk.eda_process and supposedly also in nk.bio_process (hard to tell from documentation)\n",
    "- nk.eda_process also includes \"only\" filters or smoothing, depending on the method\n",
    "- with subdiving into low-level functions, we have more control over parameters like: \n",
    "    - filters\n",
    "    minimum amplitude for SCRs (related to specific stimulus, not non-specific SCRs which appear in every eda signal but don't have to be related to a stimulus)\n",
    "\n",
    "processing steps include: \n",
    "- sanitize signal \n",
    "    - returns a default indexed signal (really necessary?)\n",
    "- filter signal \n",
    "    - returns array with filtered signal \n",
    "- decompose signal into phasic & tonic component \n",
    "    - suggested by neurokit documentation -> helps to provide a more accurate estimation of the true SCR amplitude\n",
    "    - signal is furthermore standardized which is also suggested by neurokit documentation -> useful in presence of high inter-individual variations, which usually is the case for pain perception\n",
    "- find peaks \n",
    "    - returns dict with amplitude of SCR, samples at which SCR onset and SCR peaks occur (accessible with \"SCR_Amplitude\", \"SCR_Onsets\", \"SCR_Peaks\")\n",
    "- store signal "
   ]
  },
  {
   "cell_type": "code",
   "execution_count": null,
   "metadata": {},
   "outputs": [],
   "source": [
    "eda_signal = nk.signal_sanitize(run_df[\"Skin Conductance (EDA) - EDA100C-MRI\"])\n",
    "\n",
    "eda_filters = nk.signal_filter(eda_signal, \n",
    "                                sampling_rate=spacetop_samplingrate, \n",
    "                                highcut=1, method=\"butterworth\", order=4)\n",
    "pl1 = plt.plot(eda_filters)\n",
    "plt.show(pl1)\n",
    "pl2 = plt.plot(run_df[\"Skin Conductance (EDA) - EDA100C-MRI\"])\n",
    "plt.show(pl2)\n",
    "\n",
    "eda_decomposed = nk.eda_phasic(nk.standardize(eda_filters), \n",
    "                               sampling_rate=spacetop_samplingrate) \n",
    "                                # method='highpass'\n",
    "\n",
    "eda_peaks, info = nk.eda_peaks(eda_decomposed[\"EDA_Phasic\"].values,\n",
    "                               sampling_rate=spacetop_samplingrate, \n",
    "                               method = \"neurokit\", amplitude_min = 0.02)  \n",
    "info[\"sampling_rate\"] = spacetop_samplingrate\n",
    "\n",
    "signals = pd.DataFrame({\"EDA_Raw\": eda_signal, \"EDA_Clean\": eda_filters})\n",
    "signals_2 = pd.concat([signals, eda_decomposed, eda_peaks], axis=1) "
   ]
  },
  {
   "cell_type": "markdown",
   "metadata": {},
   "source": [
    "### Define epochs \n",
    "note: this is still the old code and not updated with Heejung's code yet"
   ]
  },
  {
   "cell_type": "code",
   "execution_count": null,
   "metadata": {},
   "outputs": [],
   "source": [
    "expect_epochs = nk.epochs_create(signals_2, \n",
    "                                 expect_events, \n",
    "                                 sampling_rate=spacetop_samplingrate, \n",
    "                                 epochs_start=-1, epochs_end=8) # kann man auch end_list nehmen?\n",
    "plot_epochs_expect = nk.epochs_plot(expect_epochs)\n",
    "for epoch in expect_epochs.values():\n",
    "    nk.signal_plot(epoch[[\"EDA_Clean\", \"SCR_Height\"]], \n",
    "    title = epoch['Condition'].values[0],\n",
    "    standardize = True) "
   ]
  },
  {
   "cell_type": "markdown",
   "metadata": {},
   "source": [
    "### Analyze EDA signal \n",
    "- eda phasic \n",
    "    - event-related anaylsis\n",
    "    - of interest especially when analyzing EDA responses to specific stimuli \n",
    "- eda tonic \n",
    "    - interval-related anaylsis\n",
    "    - of interest for longer time periods, also resting-state (input could therefore also be a whole condition instead of snipped-out epochs)"
   ]
  },
  {
   "cell_type": "code",
   "execution_count": null,
   "metadata": {},
   "outputs": [],
   "source": [
    "eda_phasic = nk.eda_eventrelated(expect_epochs)\n",
    "eda_tonic = nk.eda_intervalrelated(expect_epochs)"
   ]
  }
 ],
 "metadata": {
  "kernelspec": {
   "display_name": "Python 3.10.4 64-bit",
   "language": "python",
   "name": "python3"
  },
  "language_info": {
   "codemirror_mode": {
    "name": "ipython",
    "version": 3
   },
   "file_extension": ".py",
   "mimetype": "text/x-python",
   "name": "python",
   "nbconvert_exporter": "python",
   "pygments_lexer": "ipython3",
   "version": "3.10.4"
  },
  "orig_nbformat": 4,
  "vscode": {
   "interpreter": {
    "hash": "aee8b7b246df8f9039afb4144a1f6fd8d2ca17a180786b69acc140d282b71a49"
   }
  }
 },
 "nbformat": 4,
 "nbformat_minor": 2
}
