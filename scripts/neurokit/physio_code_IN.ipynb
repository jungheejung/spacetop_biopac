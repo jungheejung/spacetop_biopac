{
 "cells": [
  {
   "cell_type": "markdown",
   "metadata": {},
   "source": [
    "### Load libraries "
   ]
  },
  {
   "cell_type": "code",
   "execution_count": null,
   "metadata": {},
   "outputs": [],
   "source": [
    "import neurokit2 as nk\n",
    "import pandas as pd\n",
    "import numpy as np\n",
    "import matplotlib.pyplot as plt"
   ]
  },
  {
   "cell_type": "markdown",
   "metadata": {},
   "source": [
    "### Load data \n",
    "note: this is still the old code and not updated with Heejung's code yet"
   ]
  },
  {
   "cell_type": "code",
   "execution_count": null,
   "metadata": {},
   "outputs": [],
   "source": [
    "run_num = 2\n",
    "\n",
    "spacetop_data, spacetop_samplingrate = nk.read_acqknowledge('/Users/isabelneumann/Desktop/CANlab/Heejung/Neurokit/data/biopac_sub-0051-0053/sub-0051/ses-03/SOCIAL_spacetop_sub-0051_ses-03_task-social_ANISO.acq')\n",
    "print(spacetop_data.columns)\n",
    "bdf = pd.read_csv('/Users/isabelneumann/Desktop/CANlab/Heejung/Neurokit/data/behavioral_sub-0051-0053/sub-0051/ses-03/sub-0051_ses-03_task-social_run-02-pain_beh.csv')"
   ]
  },
  {
   "cell_type": "markdown",
   "metadata": {},
   "source": [
    "### Organize data \n",
    "note: this is still the old code and not updated with Heejung's code yet, therefore there are not too many comments or markdowns "
   ]
  },
  {
   "cell_type": "code",
   "execution_count": null,
   "metadata": {},
   "outputs": [],
   "source": [
    "mid_val = (np.max(spacetop_data['trigger']) - np.min(spacetop_data['trigger']))/2\n",
    "spacetop_data.loc[spacetop_data['trigger'] > mid_val, 'fmri_trigger'] = 5\n",
    "spacetop_data.loc[spacetop_data['trigger'] <= mid_val, 'fmri_trigger'] = 0\n",
    "\n",
    "start_df = spacetop_data[spacetop_data['fmri_trigger'] > spacetop_data['fmri_trigger'].shift(1)].index\n",
    "stop_df = spacetop_data[spacetop_data['fmri_trigger'] < spacetop_data['fmri_trigger'].shift(1)].index\n",
    "print(start_df)\n",
    "print(stop_df)\n",
    "\n",
    "df_transition = pd.DataFrame({\n",
    "                        'start_df': start_df, \n",
    "                        'stop_df': stop_df\n",
    "                        })\n",
    "run_subset = spacetop_data[df_transition.start_df[run_num]: df_transition.stop_df[run_num]]\n",
    "run_df = run_subset.reset_index()\n",
    "\n",
    "expect_start = run_df[run_df['expect'] > run_df['expect'].shift(1)]\n",
    "expect_end = run_df[run_df['expect'] < run_df['expect'].shift(1)]\n",
    "\n",
    "expect_start_list = expect_start.index.tolist()\n",
    "print(expect_start_list)\n",
    "expect_end_list = expect_end.index.tolist()\n",
    "event_labels = [1,2,1,3,5,6,5,4,4,6,2,3] \n",
    "\n",
    "\n",
    "expect_events = nk.events_create(event_onsets=expect_start_list, \n",
    "                                 event_durations = 8000, # brauche ich die Länge überhaupt?\n",
    "                                 event_conditions=event_labels)\n",
    "print(expect_events)"
   ]
  },
  {
   "cell_type": "markdown",
   "metadata": {},
   "source": [
    "### Process EDA signal \n",
    "note: \n",
    "- all these steps are included in nk.eda_process and also in nk.bio_process\n",
    "- nk.eda_process also includes \"only\" filters or smoothing, depending on the method\n",
    "- with subdiving into low-level functions, we have more control over parameters like: \n",
    "    - filters\n",
    "    - minimum amplitude for SCRs (related to specific stimulus, not non-specific SCRs which appear in every eda signal but don't have to be related to a stimulus)\n",
    "\n",
    "processing steps include: \n",
    "- sanitize signal \n",
    "    - returns a default indexed signal (really necessary?)\n",
    "- filter signal (comparable to nk.eda_clean)\n",
    "    - returns array with filtered signal \n",
    "    - smoothing or low-pass filtering (e.g., Butterworth filter) recommended to remove high-frequency noise and small artifacts\n",
    "- decompose signal into phasic & tonic component \n",
    "    - suggested by neurokit documentation -> helps to provide a more accurate estimation of the true SCR amplitude\n",
    "    - signal is furthermore standardized which is also suggested by neurokit documentation -> useful in presence of high inter-individual variations, which usually is the case for pain perception\n",
    "- find peaks \n",
    "    - returns dict with amplitude of SCR, samples at which SCR onset and SCR peaks occur (accessible with \"SCR_Amplitude\", \"SCR_Onsets\", \"SCR_Peaks\")\n",
    "- store signal "
   ]
  },
  {
   "cell_type": "code",
   "execution_count": null,
   "metadata": {},
   "outputs": [],
   "source": [
    "eda_signal = nk.signal_sanitize(run_df[\"Skin Conductance (EDA) - EDA100C-MRI\"])\n",
    "\n",
    "eda_filters = nk.signal_filter(eda_signal, \n",
    "                               sampling_rate=spacetop_samplingrate, \n",
    "                               highcut=1, method=\"butterworth\", order=2)\n",
    "eda_filters_plot = plt.plot(eda_filters)\n",
    "plt.show(eda_filters_plot)\n",
    "eda_raw_plot = plt.plot(run_df[\"Skin Conductance (EDA) - EDA100C-MRI\"])\n",
    "plt.show(eda_raw_plot)\n",
    "\n",
    "eda_decomposed = nk.eda_phasic(nk.standardize(eda_filters), \n",
    "                               sampling_rate=spacetop_samplingrate) \n",
    "eda_decomposed_plot = eda_decomposed.plot()\n",
    "\n",
    "eda_peaks, info = nk.eda_peaks(eda_decomposed[\"EDA_Phasic\"].values,\n",
    "                               sampling_rate=spacetop_samplingrate, \n",
    "                               method = \"neurokit\", amplitude_min = 0.02)  \n",
    "info[\"sampling_rate\"] = spacetop_samplingrate\n",
    "\n",
    "signals = pd.DataFrame({\"EDA_Raw\": eda_signal, \"EDA_Clean\": eda_filters})\n",
    "eda_processed = pd.concat([signals, eda_decomposed, eda_peaks], axis=1) "
   ]
  },
  {
   "cell_type": "markdown",
   "metadata": {},
   "source": [
    "### Define epochs for EDA\n",
    "note: this is still the old code and not updated with Heejung's code yet"
   ]
  },
  {
   "cell_type": "code",
   "execution_count": null,
   "metadata": {},
   "outputs": [],
   "source": [
    "eda_epochs = nk.epochs_create(eda_processed, \n",
    "                              expect_events, \n",
    "                              sampling_rate=spacetop_samplingrate, \n",
    "                              epochs_start=-1, epochs_end=8) # kann man auch end_list nehmen?\n",
    "plot_epochs_expect = nk.epochs_plot(eda_epochs)\n",
    "for epoch in eda_epochs.values():\n",
    "    nk.signal_plot(epoch[[\"EDA_Clean\", \"SCR_Height\"]], \n",
    "    title = epoch['Condition'].values[0],\n",
    "    standardize = True) "
   ]
  },
  {
   "cell_type": "markdown",
   "metadata": {},
   "source": [
    "### Analyze EDA signal \n",
    "- eda phasic \n",
    "    - event-related anaylsis\n",
    "    - of interest especially when analyzing EDA responses to specific stimuli \n",
    "    - returns: \n",
    "        - EDA_SCR: Skin Conductance Response yes (1) or no (0) -> if yes, corresponding components are listed \n",
    "        - EDA_Peak_Amplitude: maximum amplitude of phasic component of signal \n",
    "        - SCR_Peak_Amplitude: peak amplitude of the first SCR in each epoch (parameter of interest if related to specific stimulus)\n",
    "        - SCR_Peak_Amplitude_Time: timpepoint of each first SCR peak amplitude (peak should occur within 2-7 s after stimulus onset)\n",
    "        - SCR_RiseTime: risetime of each first SCR (time it takes for SCR to reach peak amplitude from onset) \n",
    "        - SCR_RecoveryTime: half-recovery time of each first SCR (time it takes for SCR to decrease to half amplitude)\n",
    "- eda tonic \n",
    "    - interval-related anaylsis\n",
    "    - of interest for longer time periods, also resting-state (input could therefore also be a whole condition instead of snipped-out epochs)\n",
    "    - returns: \n",
    "        - SCR_Peaks_N: number of occurrences of Skin Conductance Response \n",
    "        - SCR_Peaks_Amplitude_Mean: mean amplitude of SCR peak occurrences "
   ]
  },
  {
   "cell_type": "code",
   "execution_count": null,
   "metadata": {},
   "outputs": [],
   "source": [
    "eda_phasic = nk.eda_eventrelated(eda_epochs)\n",
    "eda_tonic = nk.eda_intervalrelated(eda_epochs)"
   ]
  },
  {
   "cell_type": "markdown",
   "metadata": {},
   "source": [
    "### EDA plots\n"
   ]
  },
  {
   "cell_type": "code",
   "execution_count": null,
   "metadata": {},
   "outputs": [],
   "source": [
    "eda_plot = nk.eda_plot(eda_processed)\n",
    "eda_processed_plot = eda_processed.plot() \n",
    "\n",
    "eda_features = [info[\"SCR_Onsets\"], info[\"SCR_Peaks\"], info[\"SCR_Recovery\"]]\n",
    "eda_features_plot = nk.events_plot(eda_features, eda_signal, color= ['red', 'blue', 'orange']) "
   ]
  },
  {
   "cell_type": "markdown",
   "metadata": {},
   "source": [
    "### Process PPG signal \n",
    "note: \n",
    "- all these steps are included in nk.ppg_process and also in nk.bio_process\n",
    "    - follows exactly the Elgendi method in nk.ppg_process, but with this approach we could always adjust filter parameters \n",
    "- with subdiving into low-level functions, we have more control over parameters like: \n",
    "    - filters\n",
    "\n",
    "processing steps include: \n",
    "- sanitize signal \n",
    "    - returns a default indexed signal (really necessary?)\n",
    "- filter signal (comparable to nk.ppg_clean)\n",
    "    - returns array with filtered signal \n",
    "- find peaks \n",
    "    - returns dict with the samples at which systolic peaks occur (accessible with \"PPG_Peaks\")\n",
    "- mark peaks \n",
    "- compute rate \n",
    "    - signal rate from series of peaks (60/period)\n",
    "- store signal "
   ]
  },
  {
   "cell_type": "code",
   "execution_count": null,
   "metadata": {},
   "outputs": [],
   "source": [
    "ppg_signal = nk.signal_sanitize(run_df[\"Pulse (PPG) - PPG100C\"])\n",
    "\n",
    "ppg_filters = nk.signal_filter(ppg_signal, \n",
    "                               sampling_rate=spacetop_samplingrate, \n",
    "                               highcut=8, lowcut = 0.5, method=\"butter_ba\", order=3)\n",
    "plot_ppg_filters = plt.plot(ppg_filters)\n",
    "plt.show(plot_ppg_filters)\n",
    "plot_ppg_raw = plt.plot(run_df[\"Pulse (PPG) - PPG100C\"])\n",
    "plt.show(plot_ppg_raw)\n",
    "\n",
    "ppg_peaks = nk.ppg_findpeaks(ppg_filters,\n",
    "                             sampling_rate = spacetop_samplingrate, \n",
    "                             show = True)  \n",
    "info[\"sampling_rate\"] = spacetop_samplingrate\n",
    "\n",
    "from neurokit2.signal.signal_formatpeaks import _signal_from_indices\n",
    "ppg_markedpeaks = _signal_from_indices(ppg_peaks[\"PPG_Peaks\"], desired_length = len(ppg_filters))\n",
    "ppg_markedpeaks.plot()\n",
    "\n",
    "from neurokit2.signal import signal_rate\n",
    "ppg_rate = nk.signal_rate(ppg_peaks[\"PPG_Peaks\"], \n",
    "                          sampling_rate= spacetop_samplingrate, \n",
    "                          desired_length = len(ppg_filters))\n",
    "ppg_rate_plot = nk.signal_plot(ppg_rate)\n",
    "\n",
    "ppg_processed = pd.DataFrame(\n",
    "        {\n",
    "            \"PPG_Raw\": ppg_signal,\n",
    "            \"PPG_Clean\": ppg_filters,\n",
    "            \"PPG_Rate\": ppg_rate,\n",
    "            \"PPG_Peaks\": ppg_markedpeaks,\n",
    "        }\n",
    "    )"
   ]
  },
  {
   "cell_type": "markdown",
   "metadata": {},
   "source": [
    "### Define epochs for PPG\n",
    "note: this is still the old code and not updated with Heejung's code yet"
   ]
  },
  {
   "cell_type": "code",
   "execution_count": null,
   "metadata": {},
   "outputs": [],
   "source": [
    "ppg_epochs = nk.epochs_create(ppg_processed, \n",
    "                              expect_events, \n",
    "                              sampling_rate=spacetop_samplingrate, \n",
    "                              epochs_start=-1, epochs_end=8) # kann man auch end_list nehmen?\n",
    "plot_ppg_epochs = nk.epochs_plot(ppg_epochs)"
   ]
  },
  {
   "cell_type": "markdown",
   "metadata": {},
   "source": [
    "### Analyze PPG signal \n",
    "- ppg phasic \n",
    "    - event-related anaylsis\n",
    "    - of interest especially when analyzing EDA responses to specific stimuli \n",
    "    - returns: \n",
    "        - PPG_Rate_Baseline: baseline heart rate (at stimulus onset) \n",
    "        - PPG_Rate_Max: maximum heart rate after stimulus onset \n",
    "        - PPG_Rate_Min: minimum heart rate after stimulus onset \n",
    "        - PPG_Rate_Mean: mean heart rate after stimulus onset \n",
    "        - PPG_Rate_SD: standard deviation of the heart rate after stimulus onset\n",
    "        - PPG_Rate_Max_Time: time at which maximum heart rate occurs \n",
    "        - PPG_Rate_Min_Time: time at which minimum heart rate occurs \n",
    "        - PPG_Rate_Trend_Linear: parameter corresponding to linear trend \n",
    "        - PPG_Rate_Trend_Quadratic: parameter corresponding to curvature \n",
    "        - PPG_Rate_Trend_R2: quality of quadratic model, if too low parameters might not be reliable or meaningful \n",
    "- ppg tonic -> not working yet, but really necessary? \n",
    "    - interval-related anaylsis\n",
    "    - of interest for longer time periods, also resting-state (input could therefore also be a whole condition instead of snipped-out epochs)\n",
    "    - returns: \n",
    "        - HRV (but makes sense only if time interval is longer than 1 min)"
   ]
  },
  {
   "cell_type": "code",
   "execution_count": null,
   "metadata": {},
   "outputs": [],
   "source": [
    "ppg_phasic = nk.ppg_eventrelated(ppg_epochs)\n",
    "ppg_tonic = nk.ppg_intervalrelated(ppg_epochs) # error message  "
   ]
  },
  {
   "cell_type": "markdown",
   "metadata": {},
   "source": [
    "### PPG plots"
   ]
  },
  {
   "cell_type": "code",
   "execution_count": null,
   "metadata": {},
   "outputs": [],
   "source": [
    "ppg_plot = nk.ppg_plot(ppg_processed)"
   ]
  }
 ],
 "metadata": {
  "kernelspec": {
   "display_name": "Python 3.10.4 64-bit",
   "language": "python",
   "name": "python3"
  },
  "language_info": {
   "codemirror_mode": {
    "name": "ipython",
    "version": 3
   },
   "file_extension": ".py",
   "mimetype": "text/x-python",
   "name": "python",
   "nbconvert_exporter": "python",
   "pygments_lexer": "ipython3",
   "version": "3.10.4"
  },
  "orig_nbformat": 4,
  "vscode": {
   "interpreter": {
    "hash": "aee8b7b246df8f9039afb4144a1f6fd8d2ca17a180786b69acc140d282b71a49"
   }
  }
 },
 "nbformat": 4,
 "nbformat_minor": 2
}
